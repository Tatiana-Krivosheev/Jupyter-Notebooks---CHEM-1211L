{
 "cells": [
  {
   "cell_type": "markdown",
   "metadata": {},
   "source": [
    "# Chemistry 1211L - Principles of Chemistry I Lab\n",
    "### Atomic Emission: Flame Test for Metal Cations"
   ]
  },
  {
   "cell_type": "markdown",
   "metadata": {},
   "source": [
    "#### Student Name: Blake Anderson\n",
    "#### Partner(s): Dr. Todebush"
   ]
  },
  {
   "cell_type": "markdown",
   "metadata": {},
   "source": [
    "___"
   ]
  },
  {
   "cell_type": "markdown",
   "metadata": {},
   "source": [
    "![Image](http://localhost:8888/files/Chemistry%20Notebooks/General%20Chem%20Notebooks/Chem%201211L/Chem%201211L%20-%20Figures%20and%20Illustrations/Chem%201211L%20-%20Flame%20Test%20-%20Intro%20Image.png)"
   ]
  },
  {
   "cell_type": "markdown",
   "metadata": {},
   "source": [
    "## Objectives\n",
    "The objectives of this lab are to:\n",
    "* Perform flame tests of metal cations in order to observe their characteristic colors,\n",
    "* Match the flame colors observed to an appropriate wavelength of visible light, and then perform calculations to determine the frequency and energy of the emitted photons,\n",
    "* Observe the line spectra of the emissions using a spectroscope,\n",
    "* Relate these results to the types of electronic transitions occurring in these elements,"
   ]
  },
  {
   "cell_type": "markdown",
   "metadata": {},
   "source": [
    "## Background\n",
    "Electromagnetic radiation is composed of perpendicular waves oscillating in the electric and magnetic fields (through space or matter). These waves are characterized by their wavelength (λ) and frequency (ν).  Wavelength is defined as the distance between successive crests (or troughs) on a wave, and is measured in meters.  Frequency is defined as the number of waves that pass a given point every second, and is measured in 1/seconds, or Hertz (Hz).\n",
    "\n",
    "All electromagnetic waves travel at the speed of light (c), or 2.998 x 10<sup>8</sup> m/s. The relationship between the wavelength, frequency, and speed of an electromagnetic wave is given by the equation:\n",
    "\n",
    "$$c = \\lambda \\cdot \\nu$$\n",
    "\n",
    "Electromagnetic radiation also occurs as discreet packets of energy (or quanta) called photons. The energy per photon (in Joules) is given by the equation:\n",
    "\n",
    "$$E = h \\cdot \\nu_{photon}$$\n",
    "\n",
    "Here, h is Planck’s constant, which has a value of 6.626 x 10<sub>-34</sub> J•s.\n",
    "\n",
    "Visible light is the most familiar example of electromagnetic radiation. Differences in the wavelengths of visible light are manifested as different colors, shown in the color spectrum below.  Other examples of electromagnetic radiation include X-rays, ultraviolet light, infrared light, microwaves, and radio waves.\n",
    "\n",
    "![EMS](http://localhost:8888/files/Chemistry%20Notebooks/General%20Chem%20Notebooks/Chem%201211L/Chem%201211L%20-%20Figures%20and%20Illustrations/Chem%201211L%20-%20Flame%20Test%20-%20EMS.png)\n",
    "\n",
    "So, how does electromagnetic radiation relate to flame tests?  When an atom (or ion) absorbs energy, its electrons can make transitions from lower energy levels to higher energy levels.  The energy absorbed could be in the form of heat (as in a flame test), electrical energy, or electromagnetic radiation.  However, when electrons subsequently return from higher energy levels to lower energy levels, energy is released predominantly in the form of electromagnetic radiation.  \n",
    "\n",
    "The spacing between energy levels in an atom determines the sizes of the transitions that occur, and thus the energy and wavelengths of the collection of photons emitted.\n",
    "\n",
    "If emitted photons are in the visible region of the spectrum, they may be perceived as lines of different colors (note that photons outside the visible spectrum may also be emitted, but cannot be seen by the eye).  The result is called a line emission spectrum, and can serve as a ‘fingerprint’ of the element to which the atoms belong.  For example, the line spectra shown below for the elements hydrogen and helium are clearly quite different.  To the naked eye, when an element is vaporized in a flame (or an electrical discharge) the emission spectrum will appear to be just one color.  As seen in the top photographs, hydrogen gas emission appears purple (A) and helium gas emits light (B) that appears an orange-peach color.  This one color results from a combination of all lines of the emission spectrum, in proportion to their intensities, as seen in the lower images.  As many elements will still produce distinctive colors under such conditions, simple flame tests can be used to identify these elements.  In fact, flame tests were used to identify elements long before the invention of modern techniques, such as emission spectroscopy.  \n",
    "\n",
    "![Emission Spectrum 1](http://localhost:8888/files/Chemistry%20Notebooks/General%20Chem%20Notebooks/Chem%201211L/Chem%201211L%20-%20Figures%20and%20Illustrations/Chem%201211L%20-%20Flame%20Test%20-%20Emission%20Spectrum.png)\n",
    "\n",
    "<div style=\"float: left\">\n",
    "    ![Replace this with your image](http://localhost:8888/files/Chemistry%20Notebooks/General%20Chem%20Notebooks/Chem%201211L/Chem%201211L%20-%20Figures%20and%20Illustrations/Chem%201211L%20-%20Flame%20Test%20-%20Electronic%20Transitions.png)\n",
    "</div>\n",
    "\n",
    "<p style=\"text-align:justify\">As discussed above, the emitted line spectra are due to the transitions of the excited electrons relaxing to lower energy states with the energy given off in the form of light.  The electronic transitions that correlate to the observed line spectra for hydrogen are shown left.  Knowing the wavelength of the emitted light, the energy of the electronic transition can be calculated, providing important information about the electronic structure of various atoms.< /p>\n",
    "\n",
    "<BR CLEAR=\"all\">\n",
    "\n",
    "In this lab, you will be observing the colors emitted by the ions in the flames, and the line spectrum using spectroscopes that contain a diffraction grating (similar to a prism) which separates light into its discrete wavelengths.  While many elemental analyses performed in the laboratory are done on sophisticated instrumentation, this simple method will allow us to view the ‘fingerprint’ for each of our ion samples rather effectively.  "
   ]
  },
  {
   "cell_type": "markdown",
   "metadata": {},
   "source": [
    "## Procedure\n",
    "You will conduct flame tests to observe the flame emission colors for the following salts:\n",
    "LiNO<sub>3</sub>, Cu(NO<sub>3</sub>)<sub>2</sub>, Sr(NO<sub>3</sub>)<sub>2</sub>, Ba(NO<sub>3</sub>)<sub>2</sub>, KNO<sub>3</sub>, and Ca(NO<sub>3</sub>)<sub>2</sub>, NaNO<sub>3</sub>.  Since nitrates do not emit color, you will be observing the color of the emission of the metallic cations.\n",
    "\n",
    "Today, you will work in pairs and will rotate through various stations where the specific chemicals are located. Each station should be equipped with a Bunsen burner, a chemical supply, a small porcelain crucible and a wire test loop. When a test is completed, move to another station, leaving all materials where they are originally located. \n",
    "1. Your instructor will demonstrate the proper way to work with a Bunsen burner. If you have trouble with the burner, ask your instructor for assistance. \n",
    "2. Hold the test wire in the flame until it is very hot. This is done by positioning the wire loops at the tip of the blue cone of the burner flame (this is the hottest point). \n",
    "3. Place a dropperful of the solution to be tested into the small crucible supplied. \n",
    "4. Hold the crucible near the bottom of the Bunsen burner where the air intake is. Plunge the very hot wire into the crucible. This will vaporize the sample and carry it up the burner and into the flame. You should see the elemental color exhibit itself in the top flame of the burner. Observe this color emitted and record this on the data sheet. \n",
    "5. Perform the test again, this time observing the line spectra through the spectroscope.  Record the line spectra observed on the data sheet.\n",
    "6. The burners and wires will stay in one location. You will move to a new location to inspect the next flame test. Be sure that you observe all of the known samples (seven of them).\n",
    "7. Choose two unknowns of the five available and observe their emission colors and line spectra.  The unknown samples are duplicates of the known samples, you need only match the colors and line spectra ‘fingerprints’ to identify the unknown samples. If necessary, feel free to recheck or repeat any of the sample tests to allow you to make a correct determination of the unknowns. Please do not move the crucibles, wires, or burners from their locations.\n",
    "8. Use the table below to correlate an estimated wavelength with the colors observed.\n",
    "\n",
    "|Dominant Color|Approximate Wavelength (in nm)<sup>*</sup>|\n",
    "|:------------:|:----------------------------------------:|\n",
    "|Red           |701                                       |\n",
    "|Red-Orange    |622                                       |\n",
    "|Orange        |609                                       |\n",
    "|Orange-Yellow |597                                       |\n",
    "|Yellow        |587                                       |\n",
    "|Yellow-Green  |577                                       |\n",
    "|Green         |535                                       |\n",
    "|Green-Blue    |492                                       |\n",
    "|Blue          |474                                       |\n",
    "|Blue-Violet   |455                                       |\n",
    "|Violet        |423                                       |\n",
    "\n",
    "*Wavelength values here are given for the mid-range of the color indicated."
   ]
  },
  {
   "cell_type": "markdown",
   "metadata": {},
   "source": [
    "## Experimental Data and Observations\n",
    "A. Record your observed flame color here.  Utilize the table above to estimate the dominant wavelength the correlates with the observed flame color.\n",
    "\n",
    "|Compound                       |Observed Flame Color|Wavelength (nm)|\n",
    "|:-----------------------------:|:------------------:|:-------------:|\n",
    "|LiNO<sub>3</sub>               |||\n",
    "|Cu(NO<sub>3</sub>)<sub>2</sub> |||\n",
    "|Sr(NO<sub>3</sub>)<sub>2</sub> |||\n",
    "|Ba(NO<sub>3</sub>)<sub>2</sub> |||\n",
    "|KNO<sub>3</sub>                |||\n",
    "|Ca(NO<sub>3</sub>)<sub>2</sub> |||\n",
    "|NaNO<sub>3</sub>               |||\n",
    "|Unknown #__                    |||\n",
    "|Unknown #__                    |||\n",
    "\n",
    "B. Use this space to record the line spectra observed in spectroscope for each sample.  This will allow you to get a rough fingerprint for each sample for comparison.\n",
    "\n",
    "![Student Emission Spectrums](http://localhost:8888/files/Chemistry%20Notebooks/General%20Chem%20Notebooks/Chem%201211L/Chem%201211L%20-%20Figures%20and%20Illustrations/Chem%201211L%20-%20Flame%20Test%20-%20Student%20Emission%20Spectrums.png)"
   ]
  },
  {
   "cell_type": "markdown",
   "metadata": {},
   "source": [
    "## Data Analysis\n",
    "\n",
    "Using the wavelengths recorded in the data table above, calculate the corresponding frequencies and photon energies for the emitted radiation observed for each compound tested.  Record the results of your calculations in the table below.\n",
    "\n",
    "|Compound                       |Wavelength (nm)|Frequency (s<sup>-1</sup>)|Photon Energy (J)|\n",
    "|:-----------------------------:|:------------------:|:-------------:|\n",
    "|LiNO<sub>3</sub>               ||||\n",
    "|Cu(NO<sub>3</sub>)<sub>2</sub> ||||\n",
    "|Sr(NO<sub>3</sub>)<sub>2</sub> ||||\n",
    "|Ba(NO<sub>3</sub>)<sub>2</sub> ||||\n",
    "|KNO<sub>3</sub>                ||||\n",
    "|Ca(NO<sub>3</sub>)<sub>2</sub> ||||\n",
    "|NaNO<sub>3</sub>               ||||\n",
    "|Unknown #__                    ||||\n",
    "|Unknown #__                    ||||\n",
    "\n",
    "Show a set of sample calculations in obtaining wavelength (in m), frequency, and photon energy for LiNO<sub>3</sub> only below.  Clearly show any equations you have used, making sure to show units, a proper number of significant figures."
   ]
  },
  {
   "cell_type": "markdown",
   "metadata": {},
   "source": [
    "## Questions\n",
    "1. In this lab, how do the metal cations become excited?  How is the observed emitted light generated?\n",
    "> Answer\n",
    "\n",
    "2. Which metal cation was observed to emit radiation with the shortest wavelength?  Compared to the other metals studied, did the radiation emitted by this metal cation have the highest or lowest frequency? Did it have the highest or lowest photon energy?\n",
    "\n",
    "3. The energy, wavelength, and frequency of an emitted photon are all related to the size of the electronic transition (high → low energy levels) occurring in the metal cation.  Based on your observations, in which metal did the smallest electronic transition occur?  Briefly explain your response.\n",
    "\n",
    "4. When heated in a flame, the element Indium emits electromagnetic radiation with a distinctive indigo blue color (the name indium is derived from the word indigo).  The emitted photons that give rise to this color have energies of 4.405 x 10<sup>-19</sup>J.  Calculate the wavelength of this radiation in nanometers.\n",
    "\n",
    "5. In the introduction to this lab, the line emission for the hydrogen atom is provided and the electronic transitions that correspond the observed emission provided.  For the lowest energy transition in hydrogen, use the Rydberg equation to calculate the energy difference.  Does this energy match the wavelength given for that transition?  Show the full calculation below.  The Rydberg equation to calculate the energy of the electronic transition in an atom is \n",
    "$\\Delta E = -2.18 x 10^{-18} J (\\dfrac{1}{{n_f}^2}-\\dfrac{1}{{n_i}^2})$ where $n_f$ is the final energy level and $n_i$ is the initial energy level.  Recall that $E_{photon} = -E_{atom}$. \n",
    "\n",
    "<sub></sub>"
   ]
  },
  {
   "cell_type": "code",
   "execution_count": null,
   "metadata": {
    "collapsed": true
   },
   "outputs": [],
   "source": []
  }
 ],
 "metadata": {
  "kernelspec": {
   "display_name": "Python 3",
   "language": "python",
   "name": "python3"
  },
  "language_info": {
   "codemirror_mode": {
    "name": "ipython",
    "version": 3
   },
   "file_extension": ".py",
   "mimetype": "text/x-python",
   "name": "python",
   "nbconvert_exporter": "python",
   "pygments_lexer": "ipython3",
   "version": "3.4.3"
  }
 },
 "nbformat": 4,
 "nbformat_minor": 0
}
