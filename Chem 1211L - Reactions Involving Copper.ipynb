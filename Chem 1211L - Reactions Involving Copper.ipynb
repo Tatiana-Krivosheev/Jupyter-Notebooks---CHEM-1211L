{
 "cells": [
  {
   "cell_type": "markdown",
   "metadata": {},
   "source": [
    "# Chemistry 1211L - Principles of Chemistry I Lab\n",
    "### A Series of Chemical Reactions Involving Copper"
   ]
  },
  {
   "cell_type": "markdown",
   "metadata": {},
   "source": [
    "#### Student Name: Blake Anderson\n",
    "#### Partner(s): Dr. Todebush"
   ]
  },
  {
   "cell_type": "markdown",
   "metadata": {},
   "source": [
    "___"
   ]
  },
  {
   "cell_type": "markdown",
   "metadata": {},
   "source": [
    "This experiment will give you a chance to observe first-hand the chemical and physical properties of copper and several of its compounds. You will carry out a series of reactions starting with solid copper metal and ultimately finishing with the same solid copper metal. As you carry out the reactions, you will gain experience in handling different kinds of chemicals and be introduced to several chemical techniques. The success of your laboratory techniques will be determined by the amount of copper you recover at the end of the experiment."
   ]
  },
  {
   "cell_type": "markdown",
   "metadata": {},
   "source": [
    "### I. CHEMICAL REACTIONS\n",
    "\n",
    "An overview of each of the reactions carried out in this experiment is given below.\n",
    "\n",
    "##### Reaction 1: Oxidation of Copper Metal to Copper (II) Nitrate, Cu(NO<sub>3</sub>)<sub>2</sub>, Using Nitric Acid\n",
    "\n",
    "Oxidation reduction reactions are defined as a loss or gain of electrons among the reactants. In an oxidation reaction, one element or ion loses electrons. Simultaneously, a reduction reaction occurs as another element or ion gains electrons.\n",
    "\n",
    "The first step in this experiment involves the oxidation of copper metal to Cu<sup>2+</sup> ions. In this process copper is losing two electrons. Nitric acid is the oxidizing agent in this reaction because it causes copper to be oxidized. The blue solution that is formed in this reaction is due to the formation of the Cu<sup>2+</sup> (aq) ions in solution.\n",
    "\n",
    "This reaction also involves the reduction of the nitrate ion (from the nitric acid) to a brown NO<sub>2</sub> gas. In the reduction reaction, the nitrate ion is gaining electrons from the copper metal. Copper does not easily lose its electrons therefore we label nitric acid as a strong oxidizing agent. Since nitric acid is a strong oxidizing agent it is corrosive and hazardous; please be sure to handle it with care and wear your safety goggles!\n",
    "\n",
    "##### Reaction 2: Precipitation of Copper (II) Hydroxide, Cu(OH)<sub>2</sub>\n",
    "\n",
    "In this step you will prepare the solid copper (II) hydroxide, Cu(OH)<sub>2</sub>.\n",
    "\n",
    "The reaction of copper and nitric acid produced an aqueous solution of copper (II) nitrate. The next reaction is a double displacement reaction. In this reaction aqueous sodium hydroxide reacts with the copper (II) nitrate solution and the anions OH<sup>-</sup> and NO<sup>3-</sup> are exchanged between the two cations, Na<sup>+</sup> and Cu<sup>2+</sup>.\n",
    "\n",
    "The new pairing of ions results in the formation of an insoluble compound that precipitates from the solution. Precipitation reactions represent another general type of reaction. To know if such a reaction will occur, it is necessary to know what substances are insoluble. Chemists can predict the solubility of various ionic compounds by referring to a list of solubility rules. You should review the solubility rules that were discussed in class.\n",
    "\n",
    "##### Reaction 3: Conversion of Copper (II) Hydroxide to Copper(II) Oxide, CuO\n",
    "\n",
    "When a metal hydroxide is heated, it is expected that it will lose water to form a solid metal oxide. With copper (II) hydroxide, this reaction occurs very readily with medium heat.\n",
    "\n",
    "##### Reaction 4: The Reaction of Copper (II) Oxide with Sulfuric Acid, H<sub>2</sub>SO<sub>4</sub>\n",
    "In this reaction the solid copper oxide reacts with a strong acid causing the copper to return to solution as the copper (II) ions.\n",
    "\n",
    "This type of reaction is called an acid-base reaction. The reaction of copper oxide (a weak base) with sulfuric acid (a strong acid) is an easy way to return the copper (II) ion to the aqueous solution. The counter ion for the copper (II) is now a sulfate ion.\n",
    "\n",
    "##### Reaction 5: The Reduction of Copper (II) Ion by Zinc\n",
    "\n",
    "Reaction 1 involved the oxidation of copper metal to the copper (II) ions. Here we seek to carry out the opposite transformation, reduction of copper (II) ions to copper metal. A reducing agent is required, and since the copper (II) ion is fairly easy to reduce there are many choices. Zinc metal, a convenient reducing agent, is used for this purpose. During the process of reducing copper (II), zinc is oxidized to the zinc (II) ions."
   ]
  },
  {
   "cell_type": "markdown",
   "metadata": {},
   "source": [
    "### Procedure:\n",
    "\n",
    "___\n",
    "**Caution!!** Be sure to wear safety glasses at all times in the laboratory. NO exceptions to this rule!\n",
    "___\n",
    "\n",
    "Record all observations and data in your laboratory notebook."
   ]
  },
  {
   "cell_type": "markdown",
   "metadata": {},
   "source": [
    "##### Reaction 1: Oxidation of Copper Metal Using Nitric Acid\n",
    "\n",
    "Using a balance, weigh out approximately 0.3 g of copper. (Be sure to record your measurement to the correct number of decimal places.) If necessary, use scissors to cut the material; attempting to break the fine strands with your hands can cause severe cuts. Wad the sample to lie flat on the bottom of the 250 mL beaker so that it will be completely covered by nitric acid. Place the copper in the beaker.\n",
    "\n",
    "Using a graduated cylinder, add 10 mL of 16 M HNO<sub>3</sub> to the flask or beaker. This addition should be performed under the hood. (What observations indicate that a reaction is occurring?) Allow the reaction to proceed until no copper metal remains. A swirl of the beaker will often reveal if brown gas remains. If brown gas is still present, you may heat the solution slightly, while still in the hood, to complete the reaction. At this point, the solution contains copper (II) nitrate along with some excess acid (verify with indicator paper—blue litmus paper turning red when touched with a stirring rod from the solution will indicate it is acidic). Your instructor should check this solution before continuing.\n",
    "\n",
    "**NOTE**: Blue litmus paper turns red in the presence of an acid. Red litmus paper turns blue in the presence of a base."
   ]
  },
  {
   "cell_type": "markdown",
   "metadata": {},
   "source": [
    "##### Reaction 2: Precipitation of Copper(II) Hydroxide, Cu(OH)2\n",
    "\n",
    "___\n",
    "**Caution!!** Concentrated acids or bases can cause damage to the skin and eyes! Handle these chemicals carefully! Avoid breathing the vapors and wear safety glasses at all times in the laboratory!\n",
    "___\n",
    "\n",
    "Add enough distilled water to give approximately 50 mL of solution. Place the beaker in an ice bath (with water) while still in the hood. Cool the solution for several minutes, then you can take it to the bench.\n",
    "\n",
    "Rinse a graduated cylinder and measure 10 mL of 6 M sodium hydroxide, NaOH. Once the copper solution is cool (cold), add the sodium hydroxide solution to the beaker a few drops at a time while stirring. Do not rush this step and keep the solution in the ice bath while adding the NaOH. Test the solution with indicator paper (red litmus turning blue when touched with a stirring rod from the solution will indicate it is basic). If it is not, add an additional 5 mL of 6 M NaOH and retest.\n",
    "\n",
    "The insoluble substance that precipitates in the beaker is copper (II) hydroxide."
   ]
  },
  {
   "cell_type": "markdown",
   "metadata": {},
   "source": [
    "##### Reaction 3: Conversion of Copper (II) Hydroxide to Copper (II) Oxide, CuO\n",
    "\n",
    "___\n",
    "**Caution!!** Be sure to complete this in the hood!\n",
    "___\n",
    "\n",
    "Heat the beaker containing copper(II) hydroxide on the hot plate, at a low to medium setting, with stirring **while in the hood**. Allow the solution to gently boil until the color change is complete. This should take about 3 minutes. Caution here, sometimes the solutions will tend to “bump” or “thump” while heating. Be sure to wear your safety glasses. Then carefully remove the beaker from the hot plate and allow it to cool to a temperature that allows handling. Be sure to have your instructor check your sample for complete reaction.\n",
    "\n",
    "While the solution is cooling, assemble the vacuum filter apparatus, (see the discussion of special equipment found in Appendix II). Once most of the solid CuO has settled to the bottom of the beaker, carefully pour the liquid into the Buchner funnel and allow filtration to proceed until the product has been collected. (NOTE: This filtration will go more quickly if you first pour most of the liquid through the filter; the remaining liquid can be swirled and the solid transferred to the funnel at the end. Use distilled water from the wash bottle to completely transfer all of the solid into the filter.) Finally, wash the product with about 5 mL of distilled water. When filtration is complete, release the vacuum. The filtrate (the solution passing through the filter) can be discarded in the sink."
   ]
  },
  {
   "cell_type": "markdown",
   "metadata": {},
   "source": [
    "##### Reaction 4: Reaction of Copper (II) Oxide with Sulfuric Acid, H2SO4\n",
    "\n",
    "___\n",
    "**Caution!!** Concentrated acids or bases can cause damage to the skin and eyes! Handle these chemicals carefully! Avoid breathing the vapors and wear safety glasses at all times in the laboratory!\n",
    "___\n",
    "\n",
    "Place the filter paper containing the precipitated copper (II) oxide in a clean 250 mL beaker. You can use the wash bottle to further assist in transfer of the product, if necessary. Rinse the graduated cylinder to clean it, then measure 10 mL of 2 M sulfuric acid, H<sub>2</sub>SO<sub>4</sub>. Add this to the beaker, and carefully stir until all of the copper (II) oxide has dissolved. Do not stir vigorously or you will shred the paper—this should be avoided. Remove the filter paper using forceps, rinse it with distilled water, and have your instructor check the filter paper before you discard the filter paper in the trash. If pieces of paper remain in the flask, they will have to be removed from the solution by filtration. The solution now contains copper (II) sulfate."
   ]
  },
  {
   "cell_type": "markdown",
   "metadata": {},
   "source": [
    "##### Reaction 5: Reduction of Copper (II) Sulfate Using Zinc\n",
    "\n",
    "___\n",
    "**Caution!!** Concentrated acids or bases can cause damage to the skin and eyes! Handle these chemicals carefully! Avoid breathing the vapors and wear safety glasses at all times in the laboratory!\n",
    "___\n",
    "\n",
    "Add about 0.5 g of zinc metal to the beaker (record the exact mass) and stir the mixture. Allow stirring to continue until the reaction ceases. This may take up to an hour of stirring, be patient. You will know reaction is complete when the blue color is gone from the solution.\n",
    "\n",
    "At this point the beaker will contain a mixture of copper and the excess zinc. To remove the zinc metal, add about 20 mL of 3 M hydrochloric acid to the beaker. Work under the hood for this procedure. Hydrochloric acid reacts with zinc, converting it to soluble zinc (II) chloride. (Copper does not react with HCl.) Evolution of hydrogen gas (caution: flammable) will be evidence that a reaction is occurring. Allow the reaction to proceed, with stirring, until gas evolution ceases. If you are careful, you can locate some zinc pieces by the bubbles and remove the pieces with a forceps.\n",
    "\n",
    "Weigh an appropriate sized piece of filter paper and your watch glass. Record this data in your notebook. Once again, set up the vacuum filtration apparatus, and filter the copper metal through the weighed filter paper. Wash the copper metal by passing several 10 mL portions of distilled water through the filter. Then wash the copper with a 20 mL portion of acetone (caution: flammable). Draw air through the filter for about 5 minutes to dry the copper metal. Disconnect the filtration apparatus and carefully remove the copper product and the paper from the filter. The filtrate (liquid) from this step should be disposed of in the waste container found in the hood. Carefully place the filter paper with copper on the watch glass.\n",
    "\n",
    "Dry your sample in the oven for two minutes then measure the mass of the recovered copper. Have your instructor check your copper sample for complete recovery. Then, you may dispose of the copper and paper in the trash."
   ]
  },
  {
   "cell_type": "markdown",
   "metadata": {},
   "source": [
    "### Safety:\n",
    "\n",
    "Handle acids and bases with extreme caution. In this experiment you will use aqueous solutions of nitric, sulfuric, and hydrochloric acids and sodium hydroxide. These materials can cause severe chemical burns; so, proper handling is important.\n",
    "\n",
    "___\n",
    "**Caution!!** Concentrated acids or bases can cause damage to the skin and eyes! Handle these chemicals carefully! Avoid breathing the vapors and wear safety glasses at all times in the laboratory!\n",
    "___"
   ]
  },
  {
   "cell_type": "markdown",
   "metadata": {},
   "source": [
    "### Data Sheet"
   ]
  },
  {
   "cell_type": "markdown",
   "metadata": {},
   "source": [
    "##### Results:\n",
    "\n",
    "Initial Mass of Cu = \n",
    "\n",
    "Final Mass of Cu = \n",
    "\n",
    "Calculate the percent recovery of copper based on themasses above. Be sure to include the calculation here.\n",
    "\n",
    "% Recover = "
   ]
  },
  {
   "cell_type": "markdown",
   "metadata": {},
   "source": [
    "##### Questions:\n",
    "\n",
    "1. Correctly balance the following chemical reactions. Using words write out the chemical reactions.  \n",
    " $Cu + HNO_3 \\rightarrow NO_2 + Cu(NO_3)_2 + H_2O$\n",
    "> Description  \n",
    "\n",
    " $Cu(NO_3)_2 + NaOH \\rightarrow Cu(OH)_2 + NaNO_3$  \n",
    "> Description\n",
    "\n",
    " $Cu(OH)_2 \\rightarrow CuO + H_2O$  \n",
    "> Description\n",
    "\n",
    " $CuO + H_2SO_4 \\rightarrow CuSO_4 + H_2O$  \n",
    "> Description\n",
    "\n",
    " $CuSO_4 + Zn \\rightarrow ZnSO_4 + Cu$  \n",
    "> Description\n",
    "\n",
    " $Zn + HCl \\rightarrow ZnCl_2 + H_2$ \n",
    "> Description\n",
    "\n",
    "2. How do the following influence the percent yield? Begin by stating which data item would be in error and explain whether the percent yield would be too large or too small or not affected at all.\n",
    "    1. A large excess of NaOH is added when the Cu(OH) was precipitated.\n",
    "    2. The filtrate was slightly blue after the CuO was filtered out of the solution.\n",
    "    3. The filter paper was slightly black when you threw it away.\n",
    "    4. You didn’t mass the filter paper and watch glass before you used them.\n",
    "    \n",
    "3. For reaction 4, we could have used hydrochloric acid instead of sulfuric acid to dissolve the copper oxide. If we had used HCl, what volume of 6.0 M HCl would be required to dissolve 0.0528 mol of CuO?"
   ]
  },
  {
   "cell_type": "markdown",
   "metadata": {},
   "source": [
    "##### Formal Laboratory Report Exercise 2\n",
    "\n",
    "Prepare a typed one page observation section is due with this report sheet. You need to describe the experiment (all five chemical reactions) using the observations and results that you recorded during the laboratory experiments."
   ]
  },
  {
   "cell_type": "code",
   "execution_count": null,
   "metadata": {
    "collapsed": true
   },
   "outputs": [],
   "source": []
  }
 ],
 "metadata": {
  "kernelspec": {
   "display_name": "Python 3",
   "language": "python",
   "name": "python3"
  },
  "language_info": {
   "codemirror_mode": {
    "name": "ipython",
    "version": 3
   },
   "file_extension": ".py",
   "mimetype": "text/x-python",
   "name": "python",
   "nbconvert_exporter": "python",
   "pygments_lexer": "ipython3",
   "version": "3.4.3"
  }
 },
 "nbformat": 4,
 "nbformat_minor": 0
}
