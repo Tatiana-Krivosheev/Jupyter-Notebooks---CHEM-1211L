{
 "cells": [
  {
   "cell_type": "markdown",
   "metadata": {},
   "source": [
    "# Chemistry 1211L - Principles of Chemistry I Lab\n",
    "### A Series of Chemical Reactions Involving Copper"
   ]
  },
  {
   "cell_type": "markdown",
   "metadata": {},
   "source": [
    "#### Student Name: Blake Anderson\n",
    "#### Partner(s): Dr. Todebush"
   ]
  },
  {
   "cell_type": "markdown",
   "metadata": {},
   "source": [
    "___"
   ]
  },
  {
   "cell_type": "markdown",
   "metadata": {},
   "source": [
    "## Introduction"
   ]
  },
  {
   "cell_type": "markdown",
   "metadata": {},
   "source": [
    "#### General\n",
    "\n",
    "Scientists have been fascinated with crystals for centuries.  Initially, the fascination was with their external beauty; crystalline materials exhibited well-defined symmetry and a variety of interesting colors.  However, within the last 30 years, that fascination has turned inward.  Scientists now study crystals for the structural information they can reveal.\n",
    "\n",
    "The term crystal refers to any solid whose atoms form a repeating, three-dimensional pattern.  If a crystal is large enough, you will be able to see some of the pattern reflected in the external appearance of the crystal.  For example, sodium chloride crystals are cubic reflecting the cubic structure of the sodium and chloride ions in the compound.  If a crystal is of the right size and purity, it is possible to determine the structure of the compound making up the crystal, including the location of various atoms, bond angles, and bond lengths.  The technique used to determine the structural identity of compounds is called x-ray crystallography.  Today, it is rare to find a new compound in the literature not accompanied by an x-ray crystal structure.  However, the structural data obtained from this technique are only as good as the crystal from which the data are extracted.  Although books have been written about crystal growth, growing crystals is more of an art than any single technique.  Scientists can spend months trying to get that one perfect crystal for structural determination.\n",
    "\n",
    "In this experiment, you will synthesize crystals of potassium aluminum sulfate dodecahydrate, KAl(SO<sub>4</sub>)<sub>2</sub>$\\cdot$12H<sub>2</sub>O, also commonly known as alum.  You will begin by synthesizing alum from an aluminum soda can.  Although the product you obtain from this synthesis will be crystalline, the crystals will be too small for “eyeball” or x-ray analysis.  Therefore, you will grow larger, single crystals from a saturated solution of your alum."
   ]
  },
  {
   "cell_type": "markdown",
   "metadata": {},
   "source": [
    "#### Synthesis\n",
    "\n",
    "An aluminum soda can will be used as the source of aluminum in this synthesis.  The aluminum is dissolved in a solution of 4 M KOH.\n",
    "\n",
    "Al (s) + OH<sup>-</sup> (aq) + 3H<sub>2</sub>O (l) $\\rightarrow$ Al(OH)<sub>4</sub><sup>-</sup> (aq) + 3/2H<sub>2</sub> (g)\n",
    "\n",
    "After solid impurities are removed by filtration, 9 M sulfuric acid is then added.  Initially, aluminum hydroxide precipitates out of solution.\n",
    "\n",
    "Al(OH)<sub>4</sub><sup>-</sup> (aq) + H<sup>+</sup> (aq) $\\rightarrow$ Al(OH)<sub>3</sub> (s) + H<sub>2</sub>O (l)\n",
    "\n",
    "Additional sulfuric acid neutralizes the base, and the aluminum hydroxide dissolves. (Note: If the aluminum hydroxide does not dissolve when all the acid has been added, gently warm the solution to dissolve it.)\n",
    "\n",
    "Al(OH)<sub>3</sub> (s) + 3H<sup>+</sup> (aq) $\\rightarrow$ Al<sup>3+</sup> (aq) + 3H<sub>2</sub>O (l)\n",
    "\n",
    "An ice bath is used to precipitate crystalline alum from solution.\n",
    "\n",
    "K<sup>+</sup> (aq) + Al<sup>3+</sup> (aq) + 2SO<sub>4</sub><sup>2-</sup> (aq)  +  12H<sub>2</sub>O (l) $\\rightarrow$ KAl(SO<sub>4</sub>)<sub>2</sub> $\\cdot$ 12H<sub>2</sub>O (s)"
   ]
  },
  {
   "cell_type": "markdown",
   "metadata": {},
   "source": [
    "#### Crystal Growth\n",
    "\n",
    "The crystals obtained from the synthesis will be too small to provide much structural information, either visibly or through x-ray analysis.  Therefore, the next goal is to synthesize one or more large, single crystals of alum.  We will accomplish this by slowly evaporating a saturated solution of the alum.\n",
    "\n",
    "A saturated solution is one that contains as much of the dissolved solute as possible.  The amount of solid needed to reach saturation is determined by the solid’s solubility at a given temperature.  The solubility of alum in water at several different temperatures is shown in Table 1.  Notice that as the temperature increases, so does the solubility.  This trend is typical for most solids.\n",
    "\n",
    "<div style=\"text-align: center;\" markdown=\"1\">**Table 1** Solubility of KAl(SO<sub>4</sub>)<sub>2</sub> $\\cdot$ 12H<sub>2</sub>O in Water</div>\n",
    "\n",
    "\n",
    "|Temperature (oC)|Solubility (grams/10mL water|\n",
    "|:--------------:|:--------------------------:|\n",
    "|20              |1.14                        |\n",
    "|25              |1.41                        |\n",
    "|30              |1.66                        |\n",
    "<div style=\"text-align: center;\" markdown=\"1\">Source:  The Synthesis and Characterization of Inorganic Compounds by William L. Jolly, Prentice-Hall, Inc., 1970, p. 534.</div>\n",
    "\n",
    "In practice, it is best to make a saturated solution by adding slightly more solid than required for complete saturation. When the solid no longer dissolves, the solution is saturated. The remaining solid can be removed from solution by filtration. As long as the volume and temperature of the saturated solution remain the same, the solid will remain dissolved in solution.\n",
    "\n",
    "Large, single crystals can be grown from a saturated solution by slow evaporation of the solvent.  As the solvent evaporates, the concentration of the solute increases.  The solute is now in greater concentration than its solubility permits, and solid will begin to precipitate from solution.  If evaporation is slow enough, the solute will solidify into single crystals with few imperfections or defects.  Your goal is to grow sizable single crystals with a high degree of clarity (i.e., clear not cloudy in appearance)."
   ]
  },
  {
   "cell_type": "markdown",
   "metadata": {},
   "source": [
    "## Experimental"
   ]
  },
  {
   "cell_type": "markdown",
   "metadata": {},
   "source": [
    "#### Synthesis of Aluminum\n",
    "\n",
    "Obtain approximately 1g of aluminum by cutting a piece (approximately 2 inches x 3.5 inches) from the side of an aluminum can.  Be careful not to cut yourself on the aluminum edges.  Use sandpaper to remove the coatings from both sides of the metal.  Cut the aluminum into approximately 0.5 cm pieces.  Determine the exact mass of your aluminum.\n",
    "\n",
    "In a hood, add the aluminum to a 400 mL beaker containing 50 mL of 4 M KOH.  Allow the solution to sit until all the aluminum has dissolved.  This process may take 20 minutes.\n",
    "\n",
    "After the aluminum has dissolved, use gravity filtration to remove any solid material in solution.  Filter the solution into a second 250 mL beaker.\n",
    "\n",
    "SLOWLY add 25 mL 9 M H<sub>2</sub>SO<sub>4</sub> to the filtered solution with stirring.  If the precipitate that forms does not go away with the addition of all the acid, place the beaker on a hot plate and slowly heat the solution until the precipitate dissolves.\n",
    "\n",
    "Place the beaker containing the dissolved aluminum in an ice bath.  Let it sit in the ice bath until most of the alum has precipitated from solution.\n",
    "\n",
    "Use vacuum filtration to separate the alum from solution.  Rinse the alum with three 5 mL portions of 50/50 ethanol-water mixture.  The procedure for rinsing is as follows:  1) turn off the vacuum; 2) add 5 mL of rinse solution to the Buchner funnel; 3) use a glass stir rod to carefully stir the contents in the funnel; and 4) turn the vacuum on to draw the rinse through.  Repeat two more times.  After the third rinse, continue to pull a vacuum on the solid until it is completely dry.\n",
    "\n",
    "Record the mass of alum obtained from this reaction.  Calculate the theoretical yield for your product."
   ]
  },
  {
   "cell_type": "markdown",
   "metadata": {},
   "source": [
    "#### Growth of Aluminum Crystals\n",
    "\n",
    "Make approximately 20 mL of a saturated solution of alum.  Using the solubility information provided in Table 1, figure out approximately how much alum it would take to reach saturation.  Add this amount and a little extra to 20 mL of water in a 50 mL beaker.  Stir the solution for approximately 5-10 minutes to dissolve as much of the solid as possible.  If all the alum dissolves, add a little more to solution.  Saturation occurs when no more solid dissolves.\n",
    "\n",
    "When your solution is saturated, filter out the remaining solid by gravity filtration.  Since you are working with a small amount of solution, use the 5.5 cm filter paper; this insures that only a small amount of solution is lost due to adsorption on the filter paper.  Filter the solution directly into a small vial.\n",
    "\n",
    "When finished, place a small piece of Kimwipe over the mouth of the vial and secure it in place with a rubber band.  This will prevent dust from getting into the vial.  Label the vial with your initials, date, and time.  Place the vial on the shelf above your lab bench.  Crystals should form between now and the next laboratory period.\n",
    "\n",
    "Next week when you return, record the physical characteristics of your crystals (i.e., size, color, clarity, etc.).  Magnifying glasses will be available.  Note how your crystals compare to those of your classmates."
   ]
  },
  {
   "cell_type": "markdown",
   "metadata": {},
   "source": [
    "## Resources"
   ]
  },
  {
   "cell_type": "markdown",
   "metadata": {},
   "source": [
    "* *Chemical Demonstrations*: A Sourcebook for Teachers, Volume 2, by Lee R. Summerlin, Christie L. Borgford, and Julie B. Ealy, 2nd Edition, American Chemical Society, Washington, DC, 1988, pp. 54-55.\n",
    "\n",
    "\n",
    "* *Crystals and Crystal Growing* by Alan Holden and Phylis Morrison, MIT, 1982.\n"
   ]
  }
 ],
 "metadata": {
  "kernelspec": {
   "display_name": "Python 3",
   "language": "python",
   "name": "python3"
  },
  "language_info": {
   "codemirror_mode": {
    "name": "ipython",
    "version": 3
   },
   "file_extension": ".py",
   "mimetype": "text/x-python",
   "name": "python",
   "nbconvert_exporter": "python",
   "pygments_lexer": "ipython3",
   "version": "3.4.3"
  }
 },
 "nbformat": 4,
 "nbformat_minor": 0
}
