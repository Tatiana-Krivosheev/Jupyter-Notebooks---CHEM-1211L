{
 "cells": [
  {
   "cell_type": "markdown",
   "metadata": {},
   "source": [
    "# Chemistry 1211L - Principles of Chemistry I Lab\n",
    "### An Investigation of Two Gas Laws"
   ]
  },
  {
   "cell_type": "markdown",
   "metadata": {},
   "source": [
    "#### Student Name: Blake Anderson\n",
    "#### Partner(s): Dr. Todebush"
   ]
  },
  {
   "cell_type": "markdown",
   "metadata": {},
   "source": [
    "___"
   ]
  },
  {
   "cell_type": "markdown",
   "metadata": {},
   "source": [
    "Historically, the study of gases was the first formal investigation of the behavior of matter using the\n",
    "scientific method. This occurred because equipment and devices for handling gases and measuring their\n",
    "properties were known at the time and gases were of interest because, like Chemistry, they are “all around\n",
    "us!”\n",
    "\n",
    "Your classroom study of gases culminates in the production of the Ideal Gas Law:\n",
    "\n",
    "$$PV = nRT$$\n",
    "\n",
    "an amazing consolidation of many relationships and information. This law is the combination of several\n",
    "individual laws governing gases:\n",
    "\n",
    "<br />\n",
    "  \n",
    "<div style='float:left; width:30%'>\n",
    "    Boyle's Law: $P_1V_1 = P_2V_2$\n",
    "</div>\n",
    "<div style='float:left; width:40%; margin-left:30px'>\n",
    "    The volume of a fixed quantity of gas maintained at constant temperature is inversely proportional to the pressure.\n",
    "</div>\n",
    "\n",
    "<br />\n",
    "<br />\n",
    "\n",
    "<div style='float:left; width:30%'>\n",
    "    Charles' Law: $\\frac{V_1}{T_1} = \\frac{V_2}{T_2}$\n",
    "</div>\n",
    "<div style='float:left; width:40%; margin-left:30px'>\n",
    "    The volume of a fixed quantity of gas maintained at constant pressure is directly proportional to its absolute temperature.\n",
    "</div>\n",
    "\n",
    "<br />\n",
    "\n",
    "<div style='float:left; width:30%'>\n",
    "    Avogadro's Law: $\\frac{V_1}{n_1} = \\frac{V_2}{n_2}$\n",
    "</div>\n",
    "<div style='float:left; width:40%; margin-left:30px'>\n",
    "    The volume of a gas maintained at constant pressure and temperature is directly proportional to the number of moles of the gas.\n",
    "</div>\n",
    "<BR CLEAR=\"all\">\n",
    "\n",
    "One part of this experiment will investigate Charles’ Law, the relationship between volume and\n",
    "temperature of a gas. According to the kinetic molecular theory of gases, if the temperature of a gas is\n",
    "increased, the energy of the molecules of that gas increases. As the energy increases, this increases the\n",
    "velocity of those particles exerting more pressure and the gas will expand in order to keep the pressure\n",
    "constant. From the reverse perspective, if a gas is cooled, it loses energy and consequently velocity, which\n",
    "necessitates reducing the volume if the pressure is to remain constant. If there is a direct relationship\n",
    "between the volume and the temperature (that is precisely what Charles’ Law is stating above) then if we\n",
    "were to plot the volume of a gas at a variety of temperatures, we should be able to determine the\n",
    "temperature at which that gas would be reduced to a volume of zero. (In truth this is not possible as the\n",
    "gas would liquefy at some point and the gas relationship would no longer apply.) This temperature, when\n",
    "the gas would have a theoretical volume of zero, is called absolute zero as no further reduction in temperature would be possible. In this experiment we will measure the volume of a gas (air) at several temperatures, plot the results and extrapolate to determine absolute zero.\n",
    "\n",
    "Gases also have relationships other than those expressed through the Ideal Gas Law. For example, in the\n",
    "discussion above we stated that as the energy of the gas increases, its velocity would increase. But kinetic\n",
    "energy is related through the equation:\n",
    "\n",
    "<div style='float:left; width:30%'>\n",
    "    $Kinetic Energy = 1/2 m v^2$\n",
    "</div>\n",
    "<div style='float:left; width:40%; margin-left:30px'>\n",
    "    m = mass of the particle  \n",
    "    v = velocity of the particle\n",
    "</div>\n",
    "<BR CLEAR=\"all\">\n",
    "\n",
    "so, we see that this velocity is also dependent upon the mass of the particles. This means that two gases\n",
    "with the same energy (existing at the same temperature) would have different speeds if they have\n",
    "different masses. In 1846, Thomas Graham discovered that the rate at which a gas moves is inversely\n",
    "proportional to the square root of its molecular mass, or mathematically:\n",
    "\n",
    "<div style='float:left; width:30%'>\n",
    "    Graham's Law: $\\frac{rate_1}{rate_2} = \\sqrt{\\frac{MM_2}{MM_1}}$\n",
    "</div>\n",
    "<div style='float:left; width:40%; margin-left:30px'>\n",
    "    $rate_1$ = speed at which gas 1 moves  \n",
    "    $rate_2$ = speed at which gas 2 moves  \n",
    "    $MM_1$ = molar mass of gas 1  \n",
    "    $MM_2$ = molar mass of gas 2\n",
    "</div>\n",
    "<BR CLEAR=\"all\">\n",
    "\n",
    "Since the rate or speed at which a particle moves is directly related to the distance it travels, we can also\n",
    "describe this relationship in terms of the distance our two gases would travel in an equal time period:\n",
    "\n",
    "<div style='float:left; width:30%'>\n",
    "    $\\frac{distance_1}{distance_2} = \\sqrt{\\frac{MM_2}{MM_1}}$\n",
    "</div>\n",
    "<div style='float:left; width:40%; margin-left:30px'>\n",
    "    $distance_1$ = distance moved by gas 1  \n",
    "    $distance_2$ = distance moved by gas 2  \n",
    "    $MM_1$ = molar mass of gas 1  \n",
    "    $MM_2$ = molar mass of gas 2\n",
    "</div>\n",
    "<BR CLEAR=\"all\">\n",
    "\n",
    "The second part of our experiment will be to verify this relationship for two gases, HCl and NH3. If these\n",
    "gases are simultaneously introduced in opposite ends of a glass tube, when they encounter each other\n",
    "they will react to produce the white salt ammonium chloride, NH4Cl, which will adhere to the tube. Then\n",
    "the distances each gas traveled before reacting with each other could be measured and compared to\n",
    "Graham’s Law above."
   ]
  },
  {
   "cell_type": "markdown",
   "metadata": {},
   "source": [
    "## Laborator Exercise I - Investigation of Charle's Law"
   ]
  },
  {
   "cell_type": "markdown",
   "metadata": {},
   "source": [
    "These experiments can be done in either order. Make wise use of your time and the laboratory equipment while in the lab."
   ]
  },
  {
   "cell_type": "markdown",
   "metadata": {},
   "source": [
    "### Procedure I \n",
    "\n",
    "___\n",
    "You will work in pairs for this experiment.\n",
    "___\n",
    "\n",
    "Dry a 250 mL Erlenmeyer flask in the oven for 5-10 minutes. Be careful when you remove the flask, it will be hot. Once it is cool enough to handle, fit the flask with a rubber stopper that has a glass tube extending out the top. Obtain a 600 mL beaker and place about 250 mL of water in the beaker. Place the flask into the beaker with the stopper and tube extending upward. Heat this beaker to boiling on a ring stand using a Bunsen burner as shown in Figure 1 for at least five minutes. Carefully place a thermometer into the boiling water, and after the temperature reading remains steady, record this temperature as T<sub>1</sub> in your notebook.\n",
    "\n",
    "___\n",
    "**Reminder**: All original data should be collected. In ink, in the laboratory notebook.\n",
    "___\n",
    "\n",
    "**Caution!!**: Be sure to wear safety glasses at all times in the laboratory. NO exceptions to this rule!\n",
    "___\n",
    "\n",
    "\n",
    "<div style=\"float: right\">\n",
    "    ![Figures 1 and 2](http://localhost:8888/files/Chemistry%20Notebooks/General%20Chem%20Notebooks/Chem%201211L/Chem%201211L%20-%20Figures%20and%20Illustrations/Chem%201211L%20-%20Gas%20Laws%20-%20Figure%201%20and%202.png)\n",
    "</div>\n",
    "\n",
    "<p style=\"text-align:justify\"> Carefully place a finger over the glass tube protruding from the rubber stopper in the flask. Very carefully lift the flask by the neck from the boiling water. Keep your finger firmly on the glass tube so no air can be exchanged in the flask. Transfer the large flask to one of the beakers that are kept at a different temperature (there will be three: one in a hot water bath, one kept at room temperature, and one filled with ice water). You will place the flask upside down into the beaker you have chosen (See Figure 2). Do not release your finger from the glass tube until your finger is below the liquid level in the beaker. </p>\n",
    "\n",
    "Allow your flask to adjust to the new temperature, you should notice a volume change of gas in the flask. At this point the gas should be close to the temperature of the water in the large beaker and there should be no further change in the water level within your flask. Note this temperature in your notebook. Carefully raise the flask until the liquid level inside your flask is at the same point as the liquid level inside the large beaker. At this point the atmospheric pressure and the pressure of the gas inside your flask are equal. Carefully reach into the large beaker and using your finger, cover the opening in the glass tube. Lift your flask from the beaker. Have a partner mark the position of the liquid level with a marker and note the temperature by writing it on the flask next to the line.\n",
    "\n",
    "Without ever removing your finger from the glass tube, place the flask upside down into the next available beaker at one of the remaining temperatures. Do not release your finger from the glass tube until your finger is below the liquid level in the beaker. Now repeat step 3 at this new temperature. When complete, repeat step 4 for the remaining temperature bath. Record all temperatures in your notebook.\n",
    "\n",
    "When the volume at each temperature has been recorded, you may turn the flask right-side up and place it on the bench top. Use the maker to mark the bottom level of the rubber stopper. Remove the stopper and empty the flask of any water. In order to determine the volume of gas in your flask, use a graduated cylinder (which may have to be refilled several times) to fill the flask with water up to the temperature mark. Repeat for each mark. Record these volumes in your notebook next to the corresponding temperatures.\n",
    "\n",
    "For your report you will want to enter your data values in Excel® and plot the information (Volume of Gas vs. Temperature (°C)). Use this graph to calculate the temperature in Celsius of absolute zero (0 Kelvin)."
   ]
  },
  {
   "cell_type": "markdown",
   "metadata": {},
   "source": [
    "## Laboratory Exercise II - Investigation of Gas Diffusion"
   ]
  },
  {
   "cell_type": "markdown",
   "metadata": {},
   "source": [
    "___\n",
    "**Caution!!** Be sure to wear safety glasses at all times in the laboratory. NO exceptions to this rule!\n",
    "___"
   ]
  },
  {
   "cell_type": "markdown",
   "metadata": {},
   "source": [
    "### Procedure II\n",
    "\n",
    "___\n",
    "You will work in pairs for this experiment.\n",
    "___\n",
    "\n",
    "Position yourselves at a bench that has a glass tube about 60-80 cm in length and two small vials of chemicals, HCl and NH<sub>3</sub>. Be sure the tube is clean and clear and dry before beginning.\n",
    "\n",
    "Using two Q-tips provided, fluff the cotton ends. One Q-tip will be placed simultaneously into opposite ends of the glass tube. They should “seal” the end of the glass tub without any extra air space.\n",
    "\n",
    "Dip one Q-Tip into the HCl and the other into the NH3. Keep the Q-Tips away from each other and away from the glass tube. Working as quickly as possible, simultaneously place the rubber stoppers into opposite ends of the glass tube. Leave it undisturbed. After several minutes (5-15) you should notice a small white ring around the glass tube somewhere between the two ends. With the marker, mark this location as well as the starting points of each Q-Tip. Note carefully which chemical was inserted into which end.\n",
    "\n",
    "Remove the stoppers, discard the Q-Tips and carefully measure the distances from the Q-Tip locations to the white ring. Record all information in your laboratory notebook. Rinse the glass tube with water and acetone and leave it on the bench for the next group to use.\n",
    "\n",
    "When finished with both laboratory experiments, clean up all materials and return items to the appropriate place.\n",
    "___\n",
    "**Caution!!** Concentrated acids or bases can cause damage to the skin and eyes! Handle these chemicals carefully! Avoid breathing the vapors and wear safety glasses at all times in the laboratory!\n",
    "___"
   ]
  },
  {
   "cell_type": "markdown",
   "metadata": {},
   "source": [
    "## Charles’ Law Laboratory Report\n",
    "\n",
    "For this experiment we are expecting you to combine all the components of a laboratory report into one final report. In earlier experiments you were asked to submit an objective, observations, data results, procedures and conclusion one at a time. Now we want you to synthesize this into one report. Therefore, write a laboratory report explaining your investigation of Charles’ Law.\n",
    "\n",
    "As a guide, this report should have several sections: The objective or introduction section begins with a statement of the purpose of the experiment. It may or may not include the background theory to support the law being observed. The procedure section should be written in past tense. It is a retelling of the experimental procedure that you actually completed in this experiment. It is not rewriting the lab manual, but a paragraph describing what you actually did in the lab for this experiment. The observation section will describe what you saw as you were completing the experiment; this section may be included as part of the procedure section. The results section should include a table to display the data that you collected. Since this is a report on Charles’ Law, the results section should also include the calculations related to Charles’ law, and a graph showing the experimental data extrapolated to absolute zero. The discussion section is new to this report but should be an explanation of your results. Here you will state how well your data supports Charles’ Law and how well your data compares to the measurement of Absolute Zero. This is also where you include an analysis of the errors associated with your experiment, and how you think those errors affected your results. The last section is the conclusion section. This section should restate the objective, state the basic procedure, give the relevant data with associated errors, and give a statement regarding the success of the experiment.\n",
    "\n",
    "The report should be compiled on your computer using Word® word processing system. Print the report, double spaced, on white paper. Since graphs are part of your analysis, include these appropriately in the report."
   ]
  }
 ],
 "metadata": {
  "kernelspec": {
   "display_name": "Python 3",
   "language": "python",
   "name": "python3"
  },
  "language_info": {
   "codemirror_mode": {
    "name": "ipython",
    "version": 3
   },
   "file_extension": ".py",
   "mimetype": "text/x-python",
   "name": "python",
   "nbconvert_exporter": "python",
   "pygments_lexer": "ipython3",
   "version": "3.4.3"
  }
 },
 "nbformat": 4,
 "nbformat_minor": 0
}
