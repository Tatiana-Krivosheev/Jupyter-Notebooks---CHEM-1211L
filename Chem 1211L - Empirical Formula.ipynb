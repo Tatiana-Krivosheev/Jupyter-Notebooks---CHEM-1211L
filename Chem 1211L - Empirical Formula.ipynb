{
 "cells": [
  {
   "cell_type": "markdown",
   "metadata": {},
   "source": [
    "# Chemistry 1211L - Principles of Chemistry I Lab\n",
    "### Determination of the Empirical Formula of a Hydrate"
   ]
  },
  {
   "cell_type": "markdown",
   "metadata": {},
   "source": [
    "#### Student Name: Blake Anderson\n",
    "#### Partner(s): Dr. Todebush"
   ]
  },
  {
   "cell_type": "markdown",
   "metadata": {},
   "source": [
    "___"
   ]
  },
  {
   "cell_type": "markdown",
   "metadata": {},
   "source": [
    "## Introduction:\n",
    "\n",
    "When aqueous solutions of inorganic salts are prepared, the ions are stabilized by the process of hydration. Each negative ion (anion) attracts the positive end of water molecules while each positive ion (cation) attracts the negative ends. The positive ions, which are usually smaller than the negative ions show this effect to a greater extent. This results in hydrated cations which may have considerable stability, especially for the di- and tri-valent transition metal ions.\n",
    "\n",
    "When aqueous solutions of various salts are concentrated, the forces between water molecules and the hydrated cations are of sufficient strength that the water molecules are retained in the crystal as the solid salt separates from solution. These hydrates can be isolated, and have definite compositions and structures. An example of a hydrate salt is CoCl<sub>2</sub>$\\cdot$6H<sub>2</sub>O (cobalt (II) chloride hexahydrate) the cation of which is shown below.\n",
    "\n",
    "![Hydrate salt](http://localhost:8888/files/Chemistry%20Notebooks/General%20Chem%20Notebooks/Chem%201211L/Chem%201211L%20-%20Figures%20and%20Illustrations/Chem%201211L%20-%20Empirical%20Formula%20-%20Image%201.png)\n",
    "\n",
    "In this salt, there is one [Co{H2O}6]2<sup>+</sup> ion and two Cl<sup>-</sup> ions present. The cation is bonded to six water molecules in an octahedral array. It should be emphasized that the lines in the figure therefore do not necessarily represent bonds, they merely indicate the shape of the ion. Compounds such as this in which a salt and water are combined in definite proportions are known as hydrates, the water associated with the salt is called water of hydration.\n",
    "\n",
    "The water bound in these hydrated salts can often be removed at low temperatures (about 120<sup>o</sup>C) in most cases, to produce water and the anhydrous salt.\n",
    "\n",
    "$$CoCl_2 \\cdot H_2O \\rightarrow CoCl_2 + 6H_2O$$\n",
    "\n",
    "The percentage of water in a hydrate can usually be determined by heating a known amount of hydrate until dehydration occurs. The mass of the hydrate equals the mass of the anhydrous salt plus the mass of the water driven off. The percentage of water in the hydrate can therefore be calculated:\n",
    "\n",
    "$$%water = \\dfrac{\\text{mass of water lost}}{\\text{mass of hydrate}} x 100$$\n",
    "\n",
    "Some hydrates lose their waters of hydration readily, simply by exposing them to the atmosphere. This process is known as efflorescence. For example, when a sample of MgSO<sub>4</sub>$\\cdot$7H<sub>2</sub>O (known as Epson salt) is placed on a watch glass on the laboratory bench, the following process occurs:\n",
    "\n",
    "$$MgSO_4 \\cdot 7H_2O(s) \\rightarrow MgSO_4(s) + 7H_2O(g)$$\n",
    "\n",
    "This change produces seven molecules of water vapor per molecule of the hydrate. If the process is carried out in a closed container, the pressure of the water vapor (vapor pressure) can be measured. For this salt, the vapor pressure equals 11.5 torr at 25<sup>o</sup>C.\n",
    "\n",
    "Some anhydrous inorganic salts, such as CaCl<sub>2</sub> and MgSO<sub>4</sub> are hygroscopic that is when exposed to the atmosphere, they absorb water to form hydrates. Such salts are extensively used as drying agents or desiccants. Some compounds of this type actually absorb enough water to dissolve forming a solution. This process is termed deliquescence.\n",
    "\n",
    "In the experiment, the percentage of water in a hydrate will be determined using the relationship given above. The formula of the hydrate may then be determined by calculating the moles of anhydrous salt and the moles of water of hydration. Their molar ratio is then determined. This relates to the general formula of the hydrate. For example, suppose that the hydrate in question was sodium sulfate decahydrate, Na<sub>2</sub>SO<sub>4</sub>$\\cdot$10H<sub>2</sub>O. The original sample of the hydrate weighed 320.0 mg. After heating the anhydrous salt weighed 141.3 mg. The mass of water lost would therefore be 320.0 - 141.3 = 178.7 mg. The number of moles of water lost would be\n",
    "\n",
    "\\begin{equation*}\n",
    "\\text{moles water} = \\frac{\\text{mass of water lost}}{\\text{MW of water}} = \\cfrac{0.1787g}{18.016 \\cfrac{g}{mol}} = 9.918 x 10^{-3} \\text{ moles}\n",
    "\\end{equation*}\n",
    "\n",
    "The number of moles of sodium sulfate would be\n",
    "\n",
    "\\begin{equation*}\n",
    "\\text{moles of sodium sulfate} = \\frac{\\text{mass of anhydrous salt}}{\\text{MW of sodium sulfate}} = \\cfrac{0.1413g}{141.96 \\cfrac{g}{mol}} = 9.954 x 10^{-4} \\text{ moles}\n",
    "\\end{equation*}\n",
    "\n",
    "From the ratio of the number of moles,\n",
    "\n",
    "\\begin{equation*}\n",
    "\\frac{\\text{moles of water}}{\\text{moles of sodium sulfate}} = \\frac{9.918 x 10^{-3} \\text{ moles}}{9.954 x 10^{-4}\\text{ moles}} = 9.964\n",
    "\\end{equation*}\n",
    "\n",
    "it is readily seen that there are 10 mole of water associated with each mole of the sodium sulfate."
   ]
  },
  {
   "cell_type": "markdown",
   "metadata": {},
   "source": [
    "## Experimental Procedure\n",
    "\n",
    "**Part A**: Visual Inspection of a Series of Hydrates and Anhydrous Salts\n",
    "Inspect the group of hydrates and anhydrous salts provided by your instructor. Comment on the Data Sheet on their physical appearance and color. Which show deliquescent properties? Which might find use as desiccants? Do any exhibit efflorescence?\n",
    "\n",
    "**Part B**: Formula of a Hydrate by Gravimetric Analysis\n",
    "The analysis should be done in triplicate. Mark three crucibles A, B, and C in pencil. While one crucible is cooling, the next can be heated.\n",
    "\n",
    "Attach an iron ring to a ring stand. Place a clay triangle on the ring. Put the 1st crucible in the clay triangle and heat to redness with an intense flame using a Bunsen burner for approximately 5 minutes.\n",
    "\n",
    "___\n",
    "Reminder: Use forceps or tongs to handle the crucibles, never your fingers!\n",
    "___\n",
    "\n",
    "Place the crucible in a small beaker and then place the beaker in the desiccator. While the first crucible is cooling, start heating crucible 2. Allow them to cool to room temperature. Mass each crucible. Repeat heating, cooling and weighing until a constant mass for each of the crucibles is obtained.\n",
    "\n",
    "![Figure](http://localhost:8888/files/Chemistry%20Notebooks/General%20Chem%20Notebooks/Chem%201211L/Chem%201211L%20-%20Figures%20and%20Illustrations/Chem%201211L%20-%20Empirical%20Formula%20-%20Image%202.png)\n",
    "\n",
    "Add 1 gram of sample of the unknown hydrate to each of the crucibles and weigh. Be sure to record all of the decimal places on the balance. Place a small piece of Aluminum foil (do not cover the crucible entirely) on each crucible to serve as a cover.\n",
    "\n",
    "Place one crucible (with cover) in the triangle. Heat the sample gently at first and then increase the heat moderately. Do not permit the crucible to become red hot. Continue the heating for approximately 2 to 3 minutes. Remove the crucible and place it in a beaker.\n",
    "\n",
    "Transfer the beaker and crucible to a desiccator to cool to room temperature.\n",
    "\n",
    "Process the second sample in the same manner, followed by the third. Weigh each crucible, without the cover and record the results on the Data sheet.\n",
    "\n",
    "To make sure all of the water of hydration has been removed, reheat each sample, cool as before and reweigh. Repeat this process until each sample achieves a constant mass. Note: the masses for the samples (A, B and C) may be different from each other but should be consistent within the sample.\n",
    "\n",
    "Record your results on the Data Sheet."
   ]
  },
  {
   "cell_type": "markdown",
   "metadata": {},
   "source": [
    "## Data Sheet:"
   ]
  },
  {
   "cell_type": "markdown",
   "metadata": {},
   "source": [
    "**Part A**: Visual Inspection of a Series of Hydrates and Anhydrous Salts\n",
    "\n",
    "*Write concise statements of your observations for each of the samples.*\n",
    "\n",
    "CuSO<sub>4</sub> \n",
    ">Statement\n",
    "\n",
    "CuSO<sub>4</sub>$\\cdot$5H<sub>2</sub>O  \n",
    "Na<sub>2</sub>SO<sub>4</sub>  \n",
    "Na<sub>2</sub>SO<sub>4</sub>$\\cdot$10H<sub>2</sub>O  \n",
    "CaCl<sub>2</sub>  \n",
    "NaOH  \n",
    "CoCl<sub>2</sub>  \n",
    "CoCl<sub>2</sub>$\\cdot$6H<sub>2</sub>O"
   ]
  },
  {
   "cell_type": "markdown",
   "metadata": {},
   "source": [
    "**Part B**: Gravimetric Analysis of an Unknown Hydrate\n"
   ]
  },
  {
   "cell_type": "markdown",
   "metadata": {},
   "source": [
    "|  |                                            |Crucible A|Crucible B|Crucible C|\n",
    "|:-|:-                                          |:---------|:---------|:---------|\n",
    "|1.|Constant mass of crucible                   |-|-|-|\n",
    "|  |1st heating(g)                              ||||\n",
    "|  |2nd heating(g)                              ||||\n",
    "|  |3rd heating(g)                              ||||\n",
    "|  |                                            |-|-|-|\n",
    "|2.|Mass of crucible and hydrate salt(g)        ||||\n",
    "|  |                                            |-|-|-|\n",
    "|3.|Constant mass of crucible and anhydrous salt|-|-|-|\n",
    "|  |1st heating(g)                              ||||\n",
    "|  |2nd heating(g)                              ||||\n",
    "|  |3rd heating(g)                              ||||\n",
    "|  |                                            |-|-|-|\n",
    "|4.|Calculations                                |-|-|-|\n",
    "|  |Mass of the hydrated salt(g)                ||||\n",
    "|  |Mass of the anhydrous salt(g)               ||||\n",
    "|  |Mass of water lost(g)                       ||||\n",
    "|  |Percentage of water in hydrate              ||||\n",
    "|  |Average of % water in the unknown           ||||\n",
    "|  |Formula of the anhydrous salt               ||||\n",
    "|  |Moles of water lost                         ||||\n",
    "|  |Average moles of water lost                 ||||\n",
    "|  |Moles of anhydrous salt obtained            ||||\n",
    "|  |Average moles of anhydrous salt             ||||\n",
    "|  |Mole ratio of water to anhydrous salt       ||||\n",
    "|  |                                            |-|-|-|\n",
    "|  |Formula of unknown hydrate                  ||||"
   ]
  },
  {
   "cell_type": "markdown",
   "metadata": {},
   "source": [
    "## Report Sheet"
   ]
  },
  {
   "cell_type": "markdown",
   "metadata": {},
   "source": [
    "1. A 120.0 mg sample of a lead acetate hydrate, Pb(C<sub>2</sub>H<sub>3</sub>O<sub>2</sub>)<sub>4</sub>$\\cdot$xH<sub>2</sub>O was heated to drive off the waters of hydration. The cooled residue weighed 103.0 mg. Calculate the value of x in the acetate formula.\n",
    "\n",
    "2. Sodium hydroxide pellets are very hygroscopic. Describe what happens chemically when a cover is left off a bottle of NaOH pellets. (Hint: Carbon dioxide reacts with NaOH.)\n",
    "\n",
    "3. During the lab, the student determines the mass of the hydrate and anhydrous solid in order to calculate the percent of water in the solid. How would the percent of hydrate change if all of the water was not evaporated from the solid?\n",
    "\n",
    "4. You are given a sample of an unknown hydrate of CaSO<sub>4</sub>. The average values of the data collected and recoded in your laboratory notebook where as follows:\n",
    "Mass of empty crucible 31.138 g\n",
    "Mass of crucible and sample before heating 31.457 g\n",
    "Mass of crucible and sample after heating 31.436 g\n",
    "\n",
    "Calculate the formula of the CaSO<sub>4</sub> hydrate."
   ]
  },
  {
   "cell_type": "code",
   "execution_count": null,
   "metadata": {
    "collapsed": true
   },
   "outputs": [],
   "source": []
  }
 ],
 "metadata": {
  "kernelspec": {
   "display_name": "Python 3",
   "language": "python",
   "name": "python3"
  },
  "language_info": {
   "codemirror_mode": {
    "name": "ipython",
    "version": 3
   },
   "file_extension": ".py",
   "mimetype": "text/x-python",
   "name": "python",
   "nbconvert_exporter": "python",
   "pygments_lexer": "ipython3",
   "version": "3.4.3"
  }
 },
 "nbformat": 4,
 "nbformat_minor": 0
}
