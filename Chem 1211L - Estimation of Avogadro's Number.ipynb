{
 "cells": [
  {
   "cell_type": "markdown",
   "metadata": {},
   "source": [
    "# Chemistry 1211L - Principles of Chemistry I Lab\n",
    "### Estimation of Avogadro's Number"
   ]
  },
  {
   "cell_type": "markdown",
   "metadata": {},
   "source": [
    "#### Student Name: Blake Anderson\n",
    "#### Partner(s): Dr. Todebush"
   ]
  },
  {
   "cell_type": "markdown",
   "metadata": {},
   "source": [
    "___"
   ]
  },
  {
   "cell_type": "markdown",
   "metadata": {},
   "source": [
    "The objective of this experiment is to estimate Avogadro’s number using octadecanoic acid. Avogadro’s number is the number of objects (atoms or molecules) present in one mole of a substance. The number was named after an Italian physicist, Amedeo Avogadro, who determined the number of particles present in given volumes of substances. The unique structural properties of octadecanoic acid provide a convenient way of estimating the number of molecules present in one mole of the acid. The molar mass of octadecanoic acid, CH<sub>3</sub>(CH<sub>2</sub>)<sub>16</sub>COOH, is known to be 284.47 g/mol.\n",
    "\n",
    "This experiment involves the creation of a monolayer (thin film with a thickness of one molecule) of octadecanoic acid molecules of known mass and surface area. The number of moles of the octadecanoic acid in the monolayer can be determined using the known mass and the molar mass. The diameter of the monolayer can be measured and used to determine the surface area. The volume of the monolayer can also be calculated using the surface area and approximated size the acid molecules, which can then be used to estimate the number of the acid molecules in the monolayer. Avogadro’s number is the result of dividing the number of molecules by the number of moles of octadecanoic acid in the monolayer.\n",
    "\n",
    "Water molecules are polar (polar covalent bonds are present due to unequal sharing of electrons between an oxygen atom and a hydrogen atom). Generally, polar molecules are hydrophilic (water loving), which implies that they are soluble in water. On the other hand, nonpolar molecules are hydrophobic (water hating), indicating that they are insoluble in water. For instance, oxygen – hydrogen bonds are polar covalent and are hydrophilic, whereas carbon – hydrogen bonds and carbon – carbon bonds are nonpolar covalent and are hydrophobic.\n",
    "\n",
    "The octadecanoic acid molecule has both polar and nonpolar regions. The nonpolar region is a long hydrocarbon chain (CH<sub>3</sub>(CH<sub>2</sub>)<sub>16</sub> –), which consists of carbon – carbon bonds and carbon – hydrogen bonds. This nonpolar region is hydrophobic and is not soluble in water. The polar region is a carboxylic acid end (– COOH) of the molecule. This polar region, which is hydrophilic and soluble in water, consists of carbon – oxygen bonds and oxygen – hydrogen bonds. The differences in structural properties within an octadecanoic acid can be exploited to create a monolayer, which has a thickness of the height of one molecule.\n",
    "\n",
    "When an octadecanoic acid comes in contact with water, the hydrophilic end of the molecule dissolves in the water, but the hydrophobic chain of the molecule does not dissolve in the water and is oriented away. When enough number of the octadecanoic acid molecules are present in a given surface area of water, the hydrophobic chain of the molecules are assumed to stick upright away from the water. This leads to the formation of a monolayer of one molecule thick, provided the amount of octadecanoic acid required is not exceeded.\n",
    "\n",
    "By approximating the shape of an octadecanoic acid molecule as a cylinder, the volume of each molecule (V<sub>molecule</sub>) can be estimated (see figures below).\n",
    "\n",
    "$$V_{molecule} = h \\cdot (\\pi r^2_{molecule})$$\n",
    "\n",
    "where h and r are the height and radius of the cylinder, respectively. The height of the cylinder is the length of one octadecanoic acid molecule and is estimated to be 22.9 Angstroms (1 Angstrom = 1 x 10<sup>-10</sup> meters). The radius of the cylinder is the average radius of one octadecanoic molecule and is estimated be to 1.75 Angstroms.\n",
    "\n",
    "![Figure 1](http://localhost:8888/files/Chemistry%20Notebooks/General%20Chem%20Notebooks/Chem%201211L/Chem%201211L%20-%20Figures%20and%20Illustrations/Chem%201211L%20-%20Lab%203%20-%20Figure%201%20-%20Fatty%20Acid%20Structure.png)\n",
    "\n",
    "![Figure 1 Rod](http://localhost:8888/files/Chemistry%20Notebooks/General%20Chem%20Notebooks/Chem%201211L/Chem%201211L%20-%20Figures%20and%20Illustrations/Chem%201211L%20-%20Lab%203%20-%20Figure%201%20-%20Rod.png)\n",
    "\n",
    "Similarly, the volume of the monolayer (V<sub>molecule</sub>) can be calculated using the equation below.\n",
    "\n",
    "$$V_{monolayer} = h \\cdot \\pi r^2_{monolayer}$$\n",
    "\n",
    "where h is the height of the monolayer (the length of one octadecanoic acid molecule) and r is the radius of the monolayer. In other words, the volume of the monolayer is the product of the surface area of the monolayer and the length of one molecule.\n",
    "\n",
    "The number of acid molecules in the monolayer (N<sub>m</sub>) can be calculated from the volume of the molecule and the volume of the monolayer.\n",
    "\n",
    "\\begin{equation}\n",
    "V_{monolayer} = N_m \\cdot V_{molecule}\\\\\n",
    "\\\\\n",
    "and\\\\\n",
    "\\\\\n",
    "N_m = \\dfrac{V_{monolayer}}{V_{molecule}} = \\dfrac{h \\cdot \\pi r^2_{monolayer}}{h \\cdot \\pi r^2_{molecule}} = \\dfrac{r_{monolayer}}{r_{molecule}}^2\\\\\n",
    "\\end{equation}\n",
    "\n",
    "Knowing the number of molecules and the number of moles of acid within the monolayer, Avogadro’s number can be calculated as follows:\n",
    "\n",
    "$$N_A = \\dfrac{N_m}{Number of moles octadecanoic acid}$$\n",
    "\n",
    "The mole is the amount of substance of a system, which contains as many elementary entities (or objects) as there are atoms in 12 grams of carbon-12. The number of entities (or objects) is usually atoms or molecules.\n",
    "\n",
    "The actual Avogadro’s number was first measured in 1915 by the French physicist, Jean Baptiste Perrin (1926 Nobel prize winner in physics), who used natural resin suspended in water. Current techniques used to estimate Avogadro’s number include scanning electron microscopy (SEM) and X-ray diffraction. Today’s experimental value of 6.02214199 x 10<sup>23</sup> is the best average of measurements using the best techniques available. The experiments are very difficult to carry out."
   ]
  },
  {
   "cell_type": "markdown",
   "metadata": {},
   "source": [
    "## Procedure:"
   ]
  },
  {
   "cell_type": "markdown",
   "metadata": {},
   "source": [
    "___\n",
    "Caution!! Heptane can be irritating to the respiratory tract and is highly flammable! Avoid breathing the vapors! Use parafilm to cover solutions to prevent the heptane from evaporating! Always hold Pasteur pipets vertically to prevent the solution from running into the bulb!\n",
    "___\n",
    "\n",
    "The solution of octadecanoic acid is already prepared using heptane (C<sup>7</sup>H<sup>16</sup>) as solvent. Heptane is a non-polar solvent with a high vapor pressure and readily evaporates into the atmosphere. When a solution of octadecanoic acid in heptane is added to water (one drop at a time), all the heptane will evaporate leaving a monolayer of octadecanoic acid on the water surface.\n",
    "\n",
    "#### Calibrate a Pasteur Pipet\n",
    "Obtain a new Pasteur pipet and a manila dropper bulb. Obtain about 4 mL of heptane in a clean test tube. Fill a small graduated cylinder with heptane to the 1.00 mL mark. Fill the pipet with heptane and make sure that it is held vertically all the time. Add heptane to the graduated cylinder dropwise. Count the number of drops required to bring the bottom of the meniscus up to the 2.00 mL mark exactly. This gives a conversion factor between number of drops and milliliters. Record the number of drops in 1.00 mL as trial 1. Repeat the procedure by filling the graduated cylinder dropwise to the 3.00 mL mark and the 4.00 mL mark. Record the number of drops as trial 2 and trial 3 respectively. Calculate the average number of drops per milliliter.\n",
    "\n",
    "#### Fill Watch Glass with Distilled Water\n",
    "Take a large watch glass and wash thoroughly with detergent. Rinse several minutes with tap water and with distilled water. Do not touch the inner surface of the watch glass after washing. Also, do not wipe the inner surface with paper towel. Place the clean watch glass on a paper towel, and carefully fill to the brim with distilled water. Measure the diameter of the water surface and record.\n",
    "\n",
    "#### Determine the Volume of Octadecanoic Acid in Monolayer\n",
    "Obtain about 2 mL of the octadecanoic acid solution in a clean test tube. The test tube should be covered with parafilm to avoid evaporation of the heptane. Record the given concentration of the solution. Rinse your calibrated dropper 2 – 3 times with the octadecanoic acid solution. Add the solution drop by drop to the water surface, counting the number of drops added. Allow about 5-10 seconds in between drops, and watch the surface of the water carefully. You should notice the octadecanoic acid solution spreading out over the surface of the water with each drop. The time taken by the octadecanoic acid to spread increases as more drops are added. The spreading becomes slower as the monolayer forms. At the completion of the monolayer, it will take about 45 seconds for the next drop to spread. Stop at this point and record the number of drops to form a monolayer. By exceeding the number of drops required to form a monolayer, the octadecanoic acid molecules will form clusters of oil droplets on the water surface. Avoid this situation by not adding more than necessary.\n",
    "\n",
    "#### Calculate Avogadro’s Number\n",
    "Do all calculations for trail 1. Report your result as a scientific notation number such as _________ x 10<sup>23</sup>. Pay attention to the correct use of significant figures. Compare your results to today’s experimental value. Give your notebook to the instructor to initial before proceeding to trial 2. Determine whether you added too many drops or too few drops. In the second trial, add more or less drops as necessary in order to get a better estimate of Avogadro’s number. Compare trails 1 and 2, and use this information to get a best value for trial 3.\n",
    "___\n",
    "Caution!! Excess heptane and octadecanoic acid solution should not be poured down the drain! All solutions should be placed in the waste containers provided!.\n",
    "___"
   ]
  },
  {
   "cell_type": "markdown",
   "metadata": {},
   "source": [
    "**Calibration of Pasteur Pipet**\n",
    "\n",
    "|                 |Trial 1|Trial 2|Trial 3|Average Trial|\n",
    "|:---------------:|:-:|:-:|:-:|:-:|\n",
    "|# Drops in 1.00mL|||||"
   ]
  },
  {
   "cell_type": "markdown",
   "metadata": {},
   "source": [
    "**Determination of Avogadro's Number**\n",
    "\n",
    "|                                   |Trial 1|Trial 2|Trial 3|\n",
    "|:---------------------------------:|:-----:|:-----:|:-----:|\n",
    "|Conc. of Octadecanoic Acid Solution|       |       |       |\n",
    "|Diameter of Monolayer              |       |       |       |\n",
    "|# Drops to Create Monolayer        |       |       |       |"
   ]
  },
  {
   "cell_type": "markdown",
   "metadata": {},
   "source": [
    "___\n",
    "\n",
    "Volume to Create Monolayer\n",
    ">$V_{solution} = \\text{# drops}_{monolayer} x (\\dfrac{1.00mL}{\\text{average # drops}_{calibration}})$\n",
    "\n",
    "Sample calculation: (Use #'s from Trial 1)\n",
    "> Calculation\n",
    "\n",
    "|                          |Trial 1|Trial 2|Trial 3|Average|\n",
    "|:------------------------:|:-----:|:-----:|:-----:|\n",
    "|Volume to Create Monolayer|||||\n",
    "\n",
    "___\n",
    "\n",
    "Mass of Acid in Monolayer\n",
    ">$Mass_{acid} = V_{solution}x (\\frac{\\text{grams acid}}{\\text{mL solution}})$\n",
    "\n",
    "Sample calculation: (Use #'s from Trial 1)\n",
    "> Calculation\n",
    "\n",
    "|                         |Trial 1|Trial 2|Trial 3|Average|\n",
    "|:-----------------------:|:-----:|:-----:|:-----:|\n",
    "|Mass of Acid in Monolayer||||\n",
    "\n",
    "___\n",
    "\n",
    "Moles of Acid in Monolayer\n",
    ">$Moles_{acid} = Mass_{acid} x (\\frac{\\text{1 mole acid}}{\\text{MM gram acid}})$\n",
    "\n",
    "Sample calculation: (Use #'s from Trial 1)\n",
    "> Calculation\n",
    "\n",
    "|                          |Trial 1|Trial 2|Trial 3|Average|\n",
    "|:------------------------:|:-----:|:-----:|:-----:|\n",
    "|Moles of Acid in Monolayer||||\n",
    "\n",
    "___\n",
    "\n",
    "Number of Molecules of Acid\n",
    ">$N_m = (\\frac{r_{monolayer}}{r_{molecule}})^2$\n",
    "\n",
    "Sample calculation: (Use #'s from Trial 1)\n",
    "> Calculation\n",
    "\n",
    "|                           |Trial 1|Trial 2|Trial 3|Average|\n",
    "|:-------------------------:|:-----:|:-----:|:-----:|\n",
    "|Number of Molecules of Acid||||\n",
    "\n",
    "___\n",
    "\n",
    "Avogadro's Number\n",
    ">$N_A = \\frac{N_m}{\\text{# moles acid}}$\n",
    "\n",
    "Sample calculation: (Use #'s from Trial 1)\n",
    "> Calculation\n",
    "\n",
    "|                 |Trial 1|Trial 2|Trial 3|Average|\n",
    "|:---------------:|:-----:|:-----:|:-----:|\n",
    "|Avogadro's Number|||||\n",
    "\n",
    "___"
   ]
  },
  {
   "cell_type": "raw",
   "metadata": {},
   "source": [
    "# Alternative\n",
    "|                                   |Trial 1|Trial 2|Trial 3|\n",
    "|:---------------------------------:|:-----:|:-----:|:-----:|\n",
    "|Volume to Create Monolayer         ||||\n",
    "|Mass of Acid in Monolayer          ||||\n",
    "|Moles of Acid in Monolayer         ||||\n",
    "|Number of Molecules of Acid        ||||\n",
    "|Avogadro's Number                  ||||"
   ]
  },
  {
   "cell_type": "markdown",
   "metadata": {},
   "source": [
    "## Questions"
   ]
  },
  {
   "cell_type": "markdown",
   "metadata": {},
   "source": [
    "1. Report your average result as ___________ x 10<sup>23</sup>.\n",
    "> Answer\n",
    "\n",
    "2. State three assumptions or approximations made in this experiment.\n",
    "    \n",
    "3. Assuming you added less octadecanoic acid solution than required to form a complete monolayer, would your estimated Avogadro’s number be lower or higher? Explain\n",
    "\n",
    "4. Supposing you did not cover your actadecanoic acid solution with parafilm and some heptane evaporated, causing the concentration of octadecanoic acid to change from trial to trial. How would this affect your calculations? Would the estimated Avogadro’s number be artificially high or low? Explain.\n",
    "\n",
    "5. A chemist conducts an experiment to estimate Avogadro’s number using octadecanoic acid solution. He uses 5.25 x 10<sup>-6</sup> mol octadecanoic acid to create a complete monolayer and obtains an estimate of 6.02 x 10<sup>23</sup>. How many octadecanoic acid molecules are present in the monolayer he created? How many carbon atoms are present in the monolayer he created?"
   ]
  }
 ],
 "metadata": {
  "kernelspec": {
   "display_name": "Python 3",
   "language": "python",
   "name": "python3"
  },
  "language_info": {
   "codemirror_mode": {
    "name": "ipython",
    "version": 3
   },
   "file_extension": ".py",
   "mimetype": "text/x-python",
   "name": "python",
   "nbconvert_exporter": "python",
   "pygments_lexer": "ipython3",
   "version": "3.4.3"
  }
 },
 "nbformat": 4,
 "nbformat_minor": 0
}
