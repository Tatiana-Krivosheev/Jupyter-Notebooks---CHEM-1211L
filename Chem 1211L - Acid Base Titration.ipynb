{
 "cells": [
  {
   "cell_type": "markdown",
   "metadata": {},
   "source": [
    "# Chemistry 1211L - Principles of Chemistry I Lab\n",
    "### Volumetric Analysis: Acid-BaseTitrations Using an Indicator"
   ]
  },
  {
   "cell_type": "markdown",
   "metadata": {},
   "source": [
    "___"
   ]
  },
  {
   "cell_type": "markdown",
   "metadata": {},
   "source": [
    "In volumetric analysis, volume measurements are used to determine the amounts of reagents required to completely react with one another. Commonly, a known amount of one reagent reacts with a known volume of a solution of unknown concentration. This procedure standardizes the unknown solution by allowing a calculation of its concentration. In this experiment, you will standardize a sodium hydroxide solution. You will then use this solution to analyze two unknown solutions using phenolphthalein as the indicator in the titrations."
   ]
  },
  {
   "cell_type": "markdown",
   "metadata": {},
   "source": [
    "## I. Principles"
   ]
  },
  {
   "cell_type": "markdown",
   "metadata": {},
   "source": [
    "#### Titration\n",
    "\n",
    "The technique of accurately measuring the volume of one solution required to react with another reagent is called a titration. The object of the titration is the detection of the equivalence point, the point in the procedure where stoichiometrically equivalent amounts of the reactants have been mixed. In the reaction of hydrochloric acid (HCl) and sodium hydroxide (NaOH), the equivalence point occurs when 1 mole of HCl has reacted with 1 mole of NaOH (equation 1). However, in the reaction of H<sub>2</sub>SO<sub>4</sub> and NaOH, the equivalence point occurs when 2 moles of NaOH have reacted with 1 mole of H<sub>2</sub>SO<sub>4</sub> (equation 2).\n",
    "\n",
    "\\begin{equation}\\tag{1}\n",
    "HCl(aq) + NaOH (aq) \\rightarrow H_2O(l) + NaCl (aq)\n",
    "\\end{equation}\n",
    "\n",
    "\\begin{equation}\\tag{2}\n",
    "H_2SO_4(aq) + 2NaOH(aq) \\rightarrow 2H_2O(l) + Na_2SO_4(aq)\n",
    "\\end{equation}\n",
    "\n",
    "Although instrumental methods for detecting equivalence points, such as pH meters, are now available, it is frequently sufficient, and much less expensive, to use an indicator to visually observe the equivalence point of an acid-base reaction. An indicator is a substance that undergoes a distinct color change at or near the equivalence point. The point in the titration at which the color change occurs is called the end point. The indicator must be chosen carefully, since the titration will be accurate only if the end point and the equivalence point coincide. Fortunately, a large number of indicators are commercially available, and finding the right one for a particular titration is not a difficult task.\n",
    "\n",
    "For a volumetric analysis to be valid, the precise number of moles of one of the reactants must be known. Frequently this information is determined by simply using a known mass of pure reagent. In this case, the reagent is called a primary standard, because it is pure enough to be massed and used directly. A primary standard should be greater than or equal to 99.9% pure, should not decompose under ordinary storage, and be stable enough to dry by heating or vacuum, because drying is required to remove traces of absorbed water from the atmosphere.\n",
    "\n",
    "A secondary standard is one whose concentration is determined from a primary standard and then used in other reactions. Secondary standards are usually less expensive and easier to handle than primary standards. However, most secondary standards will change in concentration with time. For example, strong bases will react with carbon dioxide in the air. The concentration of a secondary standard is determined using a known primary standard. This procedure is called standardization, the solution being analyzed is called a standard solution, and the validity of the titration is dependent on knowing the composition of the primary standard."
   ]
  },
  {
   "cell_type": "markdown",
   "metadata": {},
   "source": [
    "#### Acids and Bases\n",
    "\n",
    "According to the classical Arrhenius concept, and acid is a substance that dissociates in water to produce hydrogen ions (H<sup>+</sup>); a base is a substance that dissociates in water to produce hydroxide ions (OH<sup>-</sup>). An Arrhenius acid will react with an Arrhenius base to form water (from the combination of hydrogen ions and hydroxide ions) and a salt. This is called a neutralization reaction. The molecular form of the neutralization reaction of HCl and NaOH is shown in equation 3.\n",
    "\n",
    "\\begin{equation}\\tag{3}\n",
    "HCl(aq) + NaOH(aq) \\rightarrow H_2O(l) + NaCl(aq)\n",
    "\\end{equation}\n",
    "\n",
    "Strong acids and strong bases, such as HCl and NaOH, are usually secondary standards; reagent-grade acids are purchased in solution, and reagent-grade NaOH contains carbonate (from reaction with CO<sub>2</sub> and absorbed water). Consequently, their solutions must be standardized before being used as a standard in a titration.\n",
    "\n",
    "Dilute solutions of NaOH are conveniently standardized by the monoprotic primary acid standard potassium hydrogen phthalate, or KHP (KHC<sub>8</sub>H<sub>4</sub>O<sub>4</sub>, 204.22 g/mol, see below). The acidic hydrogen is attached to an oxygen atom in the molecular structure of KHP drawn here. The KHP has been dried in an oven to drive off any water that might contaminate it. Note: KHP is an abbreviation, the compound does not contain the element phosphorous, P.\n",
    "\n",
    "![Figure 1](http://localhost:8888/files/Chemistry%20Notebooks/General%20Chem%20Notebooks/Chem%201211L/Chem%201211L%20-%20Figures%20and%20Illustrations/Chem%201211L%20-%20Acid%20Base%20Titration%20-%20Figure%201.png)\n",
    "\n",
    "Equation 4 shows the reaction between sodium hydroxide and potassium hydrogen phthalate.\n",
    "\n",
    "\\begin{equation}\\tag{4}\n",
    "NaOH(aq) + KHC_8H_4O_4(aq) → H_2O(l) + KNaC_8H_4O_4(aq)\n",
    "\\end{equation}\n",
    "\n",
    "Thus, 1 mole of NaOH reacts exactly with 1 mole of KHP. In other words, at the equivalence point:\n",
    "\n",
    "\\begin{equation}\\tag{5}\n",
    "moles_{NaOH} = moles_{KHP}\n",
    "\\end{equation}\n"
   ]
  },
  {
   "cell_type": "markdown",
   "metadata": {},
   "source": [
    "#### Indicators\n",
    "\n",
    "Acid-base indicators are weak acids or bases themselves and have different colors when in their\n",
    "dissociated (deprotonated, i.e. lost an H+) and undissociated (protonated, i.e. has the H attached) forms.\n",
    "The dissociation of a generic indicator (HIn) may be represented as:\n",
    "\n",
    "\\begin{equation}\\tag{6}\n",
    "\\underbrace{HIn}_{\\text{protonated}} + H_2O \\rightarrow H_3O^+ + \\underbrace{In^-}_{\\text{deprotonated}}\n",
    "\\end{equation}\n",
    "\n",
    "In acid solutions, the indicator exists predominantly in the protonated form (HIn). In basic solutions, it is present mainly as dissociated In<sup>-</sup> ions, which imparts a different color to the solution. Phenolphthalein is an indicator that is used frequently in acid-base titrations. It is colorless in acid, and turns a faint pink when the amount of base added slightly exceeds the amount of acid originally present. Thus, the end point will come shortly after the equivalence point. The conditions that cause phenolphthalein to change from its colorless (HIn) form to its colored (In<sup>-</sup>) form are such that the difference between the end point and the equivalence point in a carefully performed titration is negligible."
   ]
  },
  {
   "cell_type": "markdown",
   "metadata": {},
   "source": [
    "#### Molarity\n",
    "\n",
    "The concentration of a solution (the amount of solute dissolved in a given volume of solution) may be\n",
    "expressed in many forms. Molarity (M), defined as the moles of solute per liter of solution, is a common\n",
    "expression for the concentration. Molarity can be calculated using the following expression.\n",
    "\n",
    "\\begin{equation}\\tag{7}\n",
    "\\text{Molarity} = \\frac{\\text{moles of solute (mol)}}{\\text{volume of solution (L)}}\n",
    "\\end{equation}\n",
    "\n",
    "In addition, if the concentration of the solution is given in molarity (mol/L) the number of moles of solute\n",
    "is equal to the product of the solution’s concentration and the volume of solution.\n",
    "\n",
    "\\begin{equation}\\tag{8}\n",
    "\\text{moles of solute} = \\text{Molarity(mol/L)} x\\text{Volume(L)}\n",
    "\\end{equation}\n",
    "\n",
    "Suppose we are trying to determine the concentration of an HCl solution using a standardized NaOH\n",
    "solution. Because the molar ratio of HCl to NaOH is 1:1 (see equation 3), the number of moles of acid present in the sample is equal to the number of moles of base that must be added to reach the equivalence\n",
    "point of the titration.\n",
    "\n",
    "\\begin{equation}\\tag{9}\n",
    "Molarity_{NaOH} x Volume_{NaOH} = moles_{NaOH} = moles_{HCl}\n",
    "\\end{equation}\n",
    "\n",
    "Now we can find molarity of the acid solution by dividing moles (acid) by volume (acid solution).\n",
    "\n",
    "\\begin{equation}\\tag{10}\n",
    "Molarity_{HCl} = \\frac{moles_{HCl}}{volume_{HCl}}\n",
    "\\end{equation}"
   ]
  },
  {
   "cell_type": "markdown",
   "metadata": {},
   "source": [
    "#### Dilutions\n",
    "\n",
    "Solutions can be made in a wide range of concentrations. A “dilute” solution, one of relatively low molarity, can be made from a more concentrated stock solution by adding solvent. This results in an increase in volume without changing the number of moles of solute, therefore the dilute solution has a lower concentration. The molarity of the dilute solution can be calculated using the following expression.\n",
    "\n",
    "\\begin{equation}\\tag{11}\n",
    "Molarity_{conc} x Volume_{conc} = Molarity_{dilute} x Volume_{dilute}\n",
    "\\end{equation}\n",
    "\n",
    "Or, more simply\n",
    "\n",
    "\\begin{equation}\\tag{12}\n",
    "M_1 V_1 = M_2V_2\n",
    "\\end{equation}"
   ]
  },
  {
   "cell_type": "markdown",
   "metadata": {},
   "source": [
    "#### Pre-Lab Exercise: \n",
    "\n",
    "Our stock solution of NaOH is 3.0 M NaOH. If you want to make 500 mL of a 0.10\n",
    "M NaOH solution, calculate the amount of 3.0 M NaOH you will need to use to make this solution. How\n",
    "much water will be needed?"
   ]
  },
  {
   "cell_type": "markdown",
   "metadata": {},
   "source": [
    "#### Percent Error\n",
    "\n",
    "It is important that the reliability of a measurement is assessed before conclusions can be drawn from the\n",
    "experimental data. The precision of a set of measurements, or how closely the measurements agree with\n",
    "one another, can be determined by calculating the percent error (equation 13). First, subtract the smallest\n",
    "experimental value from the largest, then divide this by the average of all the values in the set and multiply\n",
    "by 100.\n",
    "\n",
    "\\begin{equation}\\tag{13}\n",
    "\\text{Percent error} = \\frac{\\text{largest value} - \\text{smallest value}}{\\text{average value}} x 100%\n",
    "\\end{equation}\n",
    "\n",
    "The percent error needs to be determined using the value that is expected to be the same for each trial\n",
    "in this experiment. For example, the moles of HCl may be different in each trial, but then we would expect the volume of HCl to be different. But the molarity of the HCl should be the same in all cases. Therefore, we calculate the percent error using the final molarity values of the HCl."
   ]
  },
  {
   "cell_type": "markdown",
   "metadata": {},
   "source": [
    "## II. Schedule"
   ]
  },
  {
   "cell_type": "markdown",
   "metadata": {},
   "source": [
    "**Week 1**: Determination of the concentration of a solution of NaOH using KHP as a primary standard (Procedure A)\n",
    "\n",
    "**Week 2**: Determination of the concentration of H<sub>2</sub>SO<sub>4</sub> using your NaOH solution as a secondary standard (Procedure B) and Determination of the percent composition of an unknown solution using your NaOH solution as a secondary standard. (Procedure C).\n",
    "\n",
    "In this experiment you will titrate with both a primary and a secondary standard. The primary standard will be used to determine the concentration of the secondary standard. The secondary standard will be used to determine the concentration of a third chemical.\n",
    "\n",
    "The objective of this experiment is to determine the amount of acid in unknown solutions by acid-base titration. First, you will standardize a dilute (approximately 0.1 M) sodium hydroxide solution by titrating a known mass of the primary standard KHP using phenolphthalein as an indicator. Then, you will determine the concentration of the unknown H<sub>2</sub>SO<sub>4</sub> solution by an acid-base titration with the standardized NaOH solution, also using phenolphthalein as the indicator. Finally, you will determine the mass percent of KHP in an unknown solution using the same titration methods.\n",
    "\n",
    "**Pre-Lab Homework**: An ideal titration is one that takes 30-40 mL of titrant so a major portion of the buret is used without having to refill the buret (this would increase the reading error). Assuming you make a 0.10 M NaOH solution, and you wish to titrate with 35.00 mL of this solution, what sample size of KHP should you weigh out? Answer: 0.7148 g"
   ]
  },
  {
   "cell_type": "markdown",
   "metadata": {},
   "source": [
    "## III. Procedure"
   ]
  },
  {
   "cell_type": "markdown",
   "metadata": {},
   "source": [
    "#### A. Standardization of NaOH Solution\n",
    "___\n",
    "**Caution!!** Be sure to wear safety glasses at all times in the laboratory. NO exceptions to this rule!\n",
    "___\n",
    "**Caution!!** You will be working with acids and bases in this experiment. While they are dilute solutions, they are corrosive. Wash all small spills (drops) with water. Notify your instructor in the event of a large spill (several milliliters). Acids and bases can cause skin burns and are especially hazardous to the eyes. Following skin contact with sodium hydroxide or hydrochloric acid, wash the area thoroughly with water. Should sodium hydroxide or hydrochloric acid get in the eyes, rinse them thoroughly with water (at least 10 minutes of flushing with water is recommended) and seek medical attention. Always wear appropriate safety goggles and wash your hands thoroughly before leaving the lab.\n",
    "___\n",
    "\n",
    "Prepare a 500 mL solution of ~0.1 M NaOH by diluting a 3.00 M NaOH stock solution (see the pre-lab example above). Record the concentration and volume of the stock solution and the total volume of your dilute solution in your lab notebook. Place the NaOH solution in a plastic bottle. Once prepared and placed in the plastic bottle, shake the bottle thoroughly for several minutes to ensure good mixing of the chemicals. Label the bottle appropriately and keep it in your drawer.\n",
    "\n",
    "Clean a buret and prepare it for use in the titration, as outlined in Appendix III. Make sure the buret does not leak and the stopcock turns freely. Fill the buret with the NaOH solution.\n",
    "\n",
    "Accurately mass, to three decimal places, 0.5 to 0.7 g (no more than 0.8 g) of dry KHP (you may need to dry some in the oven to be sure it is dry) and add it to a 125 mL Erlenmeyer flask. Record the mass in your lab notebook. Add 25 mL of distilled water and 2 to 3 drops of phenolphthalein indicator solution. Swirl to dissolve the solid. Be sure all of the solid is dissolved.\n",
    "___\n",
    "**Reminder** Always keep all of the significant figures from the balance!\n",
    "___\n",
    "\n",
    "Read and record the initial volume of NaOH solution in the buret to the nearest 0.01 mL (we always read the buret to two decimal places). Slowly add the NaOH solution to the flask of KHP solution while gently swirling the contents of the flask. Again, be sure to read Appendix III at the back of this lab manual to be sure you are using proper titration technique. As the NaOH solution is added, a pink color eventually appears where the drops of the base come into contact with the solution. This coloration disappears with swirling. As the end point is approached, the color disappears more slowly, at which time the NaOH should be added very slowly, drop by drop. It is most important that the flask be swirled constantly throughout the entire titration. The end point is reached when one drop of the NaOH solution turns the entire solution in the flask from colorless to light pink. The solution should remain pink when it is swirled for at least 30 seconds. A sheet of white paper or towel below the flask will help in recognizing the color change at the end point. Read and record the final volume of NaOH solution in the buret.\n",
    "___\n",
    "**Reminder** Always read the buret to two decimal places! Consult your instructor if you are unsure how to do this.\n",
    "___\n",
    "\n",
    "Refill the buret before each new titration. Repeat the titration procedure with a new KHP solution two additional times. From the data you obtain in the three titrations, calculate the molarity of the NaOH solution to three significant figures. Calculate the percent error. The three determinations should agree within 1.0%. If they do not, the standardization should be repeated until agreement is reached. The average of the three acceptable determinations is taken as the molarity of the NaOH."
   ]
  },
  {
   "cell_type": "markdown",
   "metadata": {},
   "source": [
    "** Sample Calculation**: One student’s titration of a 0.5917 g KHP sample required 32.22 mL of their NaOH solution to reach the end point. What is the molarity of the NaOH solution?\n",
    "\n",
    "\\begin{equation}\n",
    "\\begin{split}\n",
    "0.5917 g 𝑥 \\frac{\\text{1 mole}}{204.22 g} = 0.002897 \\text{moles KHP}\\\\\n",
    "\\\\\n",
    "0.002897 \\text{moles KHP} x \\frac{\\text{1 mole NaOH}}{\\text{1 mole KHP}}=0.002897 \\text{moles NaOH}\\\\\n",
    "\\\\\n",
    "M_{NaOH}= \\frac{0.002897moles}{0.03122 L} = 0.09280\\text{M NaOH}\n",
    "\\end{split}\n",
    "\\end{equation}\n",
    "\n",
    "Add the calculated average molarity to the label on your NaOH bottle, and save your standardized solution for the unknown determinations (Procedures B and C). If it was necessary to repeat the titration procedure more than 5 times, you will need to make more NaOH solution. Please see your instructor."
   ]
  },
  {
   "cell_type": "markdown",
   "metadata": {},
   "source": [
    "____\n",
    "END of WEEK ONE\n",
    "___\n",
    "\n",
    "Your instructor may assign you to a specific order for analyzing part B and part C. Consult with your instructor before beginning either part of week two."
   ]
  },
  {
   "cell_type": "markdown",
   "metadata": {},
   "source": [
    "#### B. Analysis of an Unknown Sulfuric Acid Solution\n",
    "\n",
    "Obtain an unknown acid solution from the instructor. Obtain two burets. Rinse the burets with distilled water, then rinse one with two 5 mL portions of the acid. Fill this buret with the acid, and accurately read and record the value to the nearest 0.01 mL. Dispense about 25 mL into a 125 mL Erlenmeyer flask. Accurately read and record the final value. Add 2 or 3 drops of phenolphthalein indicator.\n",
    "\n",
    "Rinse the second buret with two 5 mL portions of your standardized NaOH solution, then fill the buret with the NaOH solution. Read and record the initial volume of the NaOH. Titrate with your standard NaOH solution to a faint, persistent shade of pink (not red) as described above in the standardization procedure. Record the final volume of NaOH in the buret. Calculate the molarity of the H2SO4 solution to three significant figures. Repeat the titrations until three trials agree within 1.0%.\n",
    "\n",
    "**Sample Calculation**: A student dispensed 25.16 mL of the unknown H2SO4 solution. She then titrated with her 0.09280 M NaOH and it took 28.75 mL to reach the end point. Determine the molarity of the H<sub>2</sub>SO<sub>4</sub> solution.\n",
    "\n",
    "0.09280 moles/liter x 0.02875 L = 0.002668 moles NaOH\n",
    "\n",
    "0.002668 moles NaOH x 1 mole H2SO42 moles NaOH=0.001334 moles H2SO4\n",
    "\n",
    "MH2SO4= 0.001334 moles0.02516 L=0.05302 M H2SO4\n",
    "\n",
    "**Pre-Lab Homework**: Assuming a KHP unknown is 75 % KHP, what mass of sample should you use to use about 35 mL of 0.10 M NaOH solution? Answer: About 0.953 g"
   ]
  },
  {
   "cell_type": "markdown",
   "metadata": {},
   "source": [
    "#### C. Analysis of an Unknown KHP Solution\n",
    "\n",
    "Obtain a solid unknown KHP sample from the instructor. Record the unknown number in your notebook. Accurately mass 0.8 to 1.0 g of this solid and place it in an Erlenmeyer flask. Record the mass of the solid. Dissolve the solid unknown in approximately 25 mL of distilled water. Add 2-3 drops of phenolphthalein indicator to the KHP solution.\n",
    "\n",
    "Fill a clean buret with your standardized NaOH solution. Record the initial volume of the NaOH. Titrate the acid solution with your standardized NaOH solution to a faint, persistent shade of pink (not red) as described above in the standardization procedure. Record the final volume of NaOH in the buret.\n",
    "\n",
    "Calculate the moles of KHP in the unknown sample. Calculate the percent (by mass) of KHP in the unknown. Repeat the titrations until three trials agree within 1.0%.\n",
    "\n",
    "**Disposal of Reagents**\n",
    "Excess of KHP should be placed in the containers used for solid waste. Solutions should be placed in th elabeled waste container.\n",
    "\n",
    "**Sample Calculations**\n",
    "\n",
    "\\begin{equation}\n",
    "\\begin{split}\n",
    "&M_{NaOH} x Vol = \\text{moles NaOH}\\\\\n",
    "\\\\\n",
    "&H_2SO_4 + 2NaOH \\rightarrow Na_2SO_4 + 2H_2O\\\\\n",
    "\\\\\n",
    "&\\text{moles NaOH} x \\frac{\\text{1 mole }H_2SO_4}{\\text{2 moles NaOH}} = \\text{moles }H_2SO_4\\\\\n",
    "\\\\\n",
    "&\\frac{\\text{moles }H_2SO_4}{\\text{Vol }H_2SO_4 (L)}= \\text{M }H_2SO_4\\\\\n",
    "\\\\\n",
    "&\\text{M NaOH} x Vol = \\text{moles NaOH} = \\text{moles KHP}\\\\\n",
    "\\\\\n",
    "&\\text{Moles KHP} x 204.22 g/mole = \\text{g KHP in sample}\\\\\n",
    "\\\\\n",
    "&\\frac{\\text{g KHP}}{\\text{Original mass of unknown sample}}x100 = \\text{% KHP}\n",
    "\\end{split}\n",
    "\\end{equation}"
   ]
  },
  {
   "cell_type": "markdown",
   "metadata": {},
   "source": [
    "## Data Sheet"
   ]
  },
  {
   "cell_type": "markdown",
   "metadata": {},
   "source": [
    "#### A. Standardization of NaOH Solution"
   ]
  },
  {
   "cell_type": "markdown",
   "metadata": {},
   "source": [
    "Concentration of NaOH stock solution\\__   \n",
    "Volume of NaOH stock solution used\\__  \n",
    "Final volume of dilute NaOH solution__"
   ]
  },
  {
   "cell_type": "markdown",
   "metadata": {},
   "source": [
    "|                           |Trial 1|Trial 2|Trial 3|Trial 4|Trial 5$^*$|\n",
    "|:--------------------------|:-----:|:-----:|:-----:|:-----:|:---------:|\n",
    "|Mass of KHP                ||||||\n",
    "|Final buret reading, NaOH  ||||||\n",
    "|Initial buret reading, NaOH||||||\n",
    "|Volume used, NaOH          ||||||\n",
    "|Molarity of NaOH solution  ||||||\n",
    "\n",
    "$^*$Additional as needed"
   ]
  },
  {
   "cell_type": "markdown",
   "metadata": {},
   "source": [
    "#### B. Analysis of an Unknown H<sub>2</sub>SO<sub>4</sub> Solution"
   ]
  },
  {
   "cell_type": "markdown",
   "metadata": {},
   "source": [
    "Unknown H<sub>2</sub>SO<sub>4</sub> solution number\\__"
   ]
  },
  {
   "cell_type": "markdown",
   "metadata": {},
   "source": [
    "|                                                  |Trial 1|Trial 2|Trial 3|Trial 4|Trial 5$^*$|\n",
    "|:-------------------------------------------------|:-----:|:-----:|:-----:|:-----:|:---------:|\n",
    "|Final buret reading, H<sub>2</sub>SO<sub>4</sub>  ||||||\n",
    "|Initial buret reading, H<sub>2</sub>SO<sub>4</sub>||||||\n",
    "|Volume used, H<sub>2</sub>SO<sub>4</sub>          ||||||\n",
    "|Final buret reading, NaOH                         ||||||\n",
    "|Initial buret reading, NaOH                       ||||||\n",
    "|Volume used, NaOH                                 ||||||\n",
    "|Molarity of H<sub>2</sub>SO<sub>4</sub> solution  ||||||\n",
    "\n",
    "$^*$Additional as needed"
   ]
  },
  {
   "cell_type": "markdown",
   "metadata": {},
   "source": [
    "#### C. Analysis of an Unknown KHP Solution"
   ]
  },
  {
   "cell_type": "markdown",
   "metadata": {},
   "source": [
    "Unknown KHP solid number\\__"
   ]
  },
  {
   "cell_type": "markdown",
   "metadata": {},
   "source": [
    "|                           |Trial 1|Trial 2|Trial 3|Trial 4|Trial 5$^*$|\n",
    "|:--------------------------|:-----:|:-----:|:-----:|:-----:|:---------:|\n",
    "|Mass of unknown            ||||||\n",
    "|Final buret reading, NaOH  ||||||\n",
    "|Initial buret reading, NaOH||||||\n",
    "|Volume used, NaOH          ||||||\n",
    "|Mass percent KHP           ||||||\n",
    "\n",
    "$^*$Additional as needed"
   ]
  },
  {
   "cell_type": "markdown",
   "metadata": {},
   "source": [
    "### I. Data Analysis"
   ]
  },
  {
   "cell_type": "markdown",
   "metadata": {},
   "source": [
    "#### A. Standardization of NaOH Solution"
   ]
  },
  {
   "cell_type": "markdown",
   "metadata": {},
   "source": [
    "Average molarity of NaOH solution (from titration data)\\__  \n",
    "Percent error\\__\n",
    "\n",
    "*Include sample calculations for molarity and percent error:*"
   ]
  },
  {
   "cell_type": "markdown",
   "metadata": {},
   "source": [
    "#### B. Analysis of an Unknown H<sub>2</sub>SO<sub>4</sub> Solution"
   ]
  },
  {
   "cell_type": "markdown",
   "metadata": {},
   "source": [
    "Average molarity of H<sub>2</sub>SO<sub>4</sub> solution\\__  \n",
    "Percent error\\__\n",
    "\n",
    "*Include sample calculations for molarity and percent error:*"
   ]
  },
  {
   "cell_type": "markdown",
   "metadata": {},
   "source": [
    "#### C. Analysis of an Unknown KHP Solution"
   ]
  },
  {
   "cell_type": "markdown",
   "metadata": {},
   "source": [
    "Average percent by mass of KHP\\__  \n",
    "Percent error\\__\n",
    "\n",
    "*Show sample calculations for moles of KHP, percent (by mass) of KHP, and percent error:*"
   ]
  },
  {
   "cell_type": "markdown",
   "metadata": {},
   "source": [
    "### II. Questions"
   ]
  },
  {
   "cell_type": "markdown",
   "metadata": {},
   "source": [
    "1. A solution of phosphoric acid was standardized by titration with 0.100 M NaOH solution.\n",
    "    1. Write a balanced equation for the reaction of phosphoric acid with sodium hydroxide.\n",
    "    2. If 20.14 mL of the NaOH solution were required to completely neutralize 7.15 mL of the phosphoric acid solution, what is the molarity of the phosphoric acid solution? Show your calculations.\n",
    "2. The molarity of your dilute NaOH solution can be calculated using the volume and molarity of the NaOH stock solution.\n",
    "    1. Calculate the molarity of your NaOH solution. Show your calculations.\n",
    "    2. Why is this calculated molarity different from the average molarity determined from the titrations? Which is more accurate?\n",
    "3. Write balanced molecular and net ionic equations for the reaction of KHP with NaOH."
   ]
  },
  {
   "cell_type": "markdown",
   "metadata": {},
   "source": [
    "### III. Formal Laboratory Report Exercise 3"
   ]
  },
  {
   "cell_type": "markdown",
   "metadata": {},
   "source": [
    "A typed one page procedure section is due with this report sheet. This should include a brief but fully explanatory summary of each procedure. It is not necessary to include every detail of the procedure of your experiment as written in the lab manual."
   ]
  }
 ],
 "metadata": {
  "kernelspec": {
   "display_name": "Python 3",
   "language": "python",
   "name": "python3"
  },
  "language_info": {
   "codemirror_mode": {
    "name": "ipython",
    "version": 3
   },
   "file_extension": ".py",
   "mimetype": "text/x-python",
   "name": "python",
   "nbconvert_exporter": "python",
   "pygments_lexer": "ipython3",
   "version": "3.4.3"
  }
 },
 "nbformat": 4,
 "nbformat_minor": 0
}
