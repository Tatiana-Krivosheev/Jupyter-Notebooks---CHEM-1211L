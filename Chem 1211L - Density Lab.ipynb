{
 "cells": [
  {
   "cell_type": "markdown",
   "metadata": {},
   "source": [
    "# Chemistry 1211L - Principles of Chemistry I Lab\n",
    "### Determination of the Density of Water"
   ]
  },
  {
   "cell_type": "markdown",
   "metadata": {},
   "source": [
    "#### Student Name: Blake Anderson\n",
    "#### Partner(s): Dr. Todebush"
   ]
  },
  {
   "cell_type": "markdown",
   "metadata": {},
   "source": [
    "___"
   ]
  },
  {
   "cell_type": "markdown",
   "metadata": {},
   "source": [
    "We are all familiar with measurements which are expressed as the amount of one thing for each unit of something else. For example, you may shop for meat sold at a certain number of dollars per pound ($/lb), or you may compute the mileage of your automobile in miles per gallon (miles/gallon). In this experiment, you will be asked to measure the density of a liquid. The density of a substance is usually expressed in grams/mL (grams per milliliter) or g/cm3 (grams per cubic centimeter). This experiment will introduce you to common measuring devices found in the laboratory including the balance, the graduated cylinder, and the buret, and will require you to exhibit knowledge of mathematical concepts including graphing, linear equations, slopes, and intercepts."
   ]
  },
  {
   "cell_type": "markdown",
   "metadata": {},
   "source": [
    "#### I. MASS MEASUREMENT"
   ]
  },
  {
   "cell_type": "markdown",
   "metadata": {},
   "source": [
    "The balance is a laboratory device used to measure the mass of an object. One often refers to this as \"weighing\" the object, but actually the mass rather than the weight of the object is being determined.\n",
    "\n",
    "The balances in our lab have a precision of ±0.0001 g for each measurement. This precision determines the number of significant figures the measurement will contain. Every measurement you make on the balance should record ALL decimal places, i.e. a balance with ±0.0001 g should be read as 27.1133 g. The balance"
   ]
  },
  {
   "cell_type": "markdown",
   "metadata": {},
   "source": [
    "##### Procedure:\n",
    "___\n",
    "Caution!! Be sure to wear safety glasses at all times in the laboratory. NO exceptions to this rule.\n",
    "___\n",
    "\n",
    "If you are not familiar with the operation of the balance, ask the instructor.\n",
    "\n",
    "Mass one of the objects found near the balance (labeled A, B or C). Record the mass of that object in your laboratory notebook.\n",
    "\n",
    "Be sure that your answer to the simple exercise above includes a unit. For example, if you listed the number 27.1133 for the weight of item C, one could ask \"Item C weighs 27.1133 what? Pounds, ounces, kilograms?\" The correct listing should be 27.1133 g, which is grams."
   ]
  },
  {
   "cell_type": "markdown",
   "metadata": {},
   "source": [
    "#### II. VOLUME MEASUREMENT"
   ]
  },
  {
   "cell_type": "markdown",
   "metadata": {},
   "source": [
    "The volume of an object is the amount of space it occupies. The volume of a liquid is often measured in chemistry lab and this is done in terms of milliliters (mL). The amount of orange juice you had for breakfast this morning was likely 200 or 250 mL. Two devices used for measuring liquid volumes in the laboratory are the graduated cylinder and the buret (See Figure 1).\n",
    "\n",
    "![Figure 1](http://localhost:8888/files/Chemistry%20Notebooks/General%20Chem%20Notebooks/Chem%201211L/Chem%201211L%20-%20Figures%20and%20Illustrations/Chem%201211L%20-%20Lab%202%20-%20Figure%201.png)\n",
    "\n",
    "Why two devices? Suppose, in the kitchen, the cook is making spaghetti by boiling the noodles in water. How critical is it that she knows the specific amount of water? In contrast, if the cook is adding water to a dry cake mix, how critical is it to know the amount of water being added? The point is that for different applications, one may wish to have a different precision of measurement for the volume of a substance. The graduated cylinder is easy to use and is quick, but lacks the precision found in the buret.\n",
    "\n",
    "The objective of the laboratory exercise today will be to measure the density of a liquid using these two different devices for volume measurement and to compare the results."
   ]
  },
  {
   "cell_type": "markdown",
   "metadata": {},
   "source": [
    "##### Procedure:\n",
    "\n",
    "**A. Graduated cylinder**\n",
    "___\n",
    "Caution!! Be sure to wear safety glasses at all times in the laboratory. NO exceptions to this rule.\n",
    "___\n",
    "Use a thermometer to determine the temperature in the laboratory to 0.1°C. Record this temperature in your notebook.\n",
    "\n",
    "Obtain a clean 125 mL Erlenmeyer flask (See Figure 2) and a clean 25 or 50 mL graduated cylinder. These should be found in your drawer.\n",
    "\n",
    "![Figure 2](http://localhost:8888/files/Chemistry%20Notebooks/General%20Chem%20Notebooks/Chem%201211L/Chem%201211L%20-%20Figures%20and%20Illustrations/Chem%201211L%20-%20Lab%202%20-%20Figure%202.png)\n",
    "\n",
    "Mass the empty flask and record this mass in your notebook. Be sure to record all the significant figures the balance allows. This should be four (4) figures after the decimal.\n",
    "\n",
    "Fill the graduated cylinder with distilled water. Do not fill past the top marking.\n",
    "\n",
    "Read the volume of the liquid in the graduated cylinder. This is done by making sure the gradu-ated cylinder is at eye level and you read the volume at the bottom of the meniscus (the concave \"crescent\" shaped surface of the liquid; see Figure 3). The markings determine the precision of the measurement. One can always estimate the last digit of the measurement based upon the visible markings. For example, the recorded value for the volume shown in Figure 3 might be 21.6 mL. Record this reading in your notebook as the initial reading. Remember to always use proper units and significant figures.\n",
    "\n",
    "![Figure 3](http://localhost:8888/files/Chemistry%20Notebooks/General%20Chem%20Notebooks/Chem%201211L/Chem%201211L%20-%20Figures%20and%20Illustrations/Chem%201211L%20-%20Lab%202%20-%20Figure%203.png)\n",
    "\n",
    "Carefully pour 10-15 mL of liquid from the graduated cylinder into the flask.\n",
    "\n",
    "Read the volume of liquid remaining in the graduated cylinder. Record this reading in your notebook as the final reading.\n",
    "\n",
    "Mass the flask and liquid and record this mass in your notebook. Be sure to record all the significant figures the balance allows. This should be four (4) figures **after** the decimal. **DO NOT** empty the flask between weighings.\n",
    "\n",
    "Without empting the flask, repeat steps 5-8 for four more trials, refilling the graduated cylinder when necessary. Record all data in your notebook.\n",
    "\n",
    "\n",
    "**B. Buret**\n",
    "\n",
    "Obtain a clean 50 mL buret and stand. Fill the buret with distilled water close to the numbers near the top, but do not overfill. Do not use a funnel to fill the buret, use a small beaker and pour carefully to avoid spills which run down the outside of the buret.\n",
    "\n",
    "Open the stopcock of the buret and gently tap the side of the buret to clear all air bubbles from the tip. Close the stopcock and visually check to be sure all air bubbles are removed.\n",
    "\n",
    "Mass an empty Erlenmeyer flask and record this mass in your notebook.\n",
    "\n",
    "Read the buret. Note that the buret measures the amount of liquid added to the flask. When full, it begins with a relatively small number and the value gets larger as more liquid is added to the flask. Be sure your eye looks straight at the liquid level in the buret (avoid looking from above or below). Hold a darkened card behind the buret just below the meniscus and read the volume of liquid at the bottom of the meniscus. You should ask the instructor for help if this is not clear.\n",
    "\n",
    "You should note that the buret has a greater precision than the graduated cylinder because of the increased number of markings on the device. Record the initial reading to two decimal places (0.02 mL). Again estimate last digit (so the sample reading in Figure 4 might read 40.09 mL). Record the reading as the initial buret reading on the data sheet in your notebook. Again, use proper units.\n",
    "\n",
    "![Figure 4](http://localhost:8888/files/Chemistry%20Notebooks/General%20Chem%20Notebooks/Chem%201211L/Chem%201211L%20-%20Figures%20and%20Illustrations/Chem%201211L%20-%20Lab%202%20-%20Figure%204.png)\n",
    "\n",
    "Carefully open the stopcock and allow 10-15 mL of liquid to drain into the flask.\n",
    "\n",
    "Read the buret after the addition of liquid to the flask and record the result as the final buret reading on the data sheet in your notebook.\n",
    "\n",
    "Mass the flask and liquid as before and record the mass in your notebook. **DO NOT** empty the flask between weighings.\n",
    "\n",
    "**Without emptying the flask**, repeat steps 4-7 for four more trials, refilling the buret as necessary. Record all data on the data sheet in your notebook.\n",
    "\n",
    "Look up the density of water at the laboratory temperature in the CRC Handbook of Chemistry and Physics (available in the laboratory or the library). Place this value on your data sheet in your notebook."
   ]
  },
  {
   "cell_type": "markdown",
   "metadata": {},
   "source": [
    "#### III. DATA ANALYSIS"
   ]
  },
  {
   "cell_type": "markdown",
   "metadata": {},
   "source": [
    "As stated above, the density of a substance is defined as its mass per unit volume. Mathematically, we can state that:\n",
    "\n",
    "\\begin{equation*}\n",
    "\\begin{split}\n",
    "Density &= \\dfrac{Mass}{Volume}\\\\\n",
    "&or\\\\\n",
    "d &= \\dfrac{m}{V}\n",
    "\\end{split}\n",
    "\\end{equation*}\n",
    "\n",
    "The above equation can be rearranged to m = dV. It would be very easy to calculate the density of our liquid for any one trial simply by dividing the mass of the liquid by its volume. However, a careful look at our data shows us that we do not know the mass of the liquid alone. Therefore we will describe a graphing procedure one can use to determine the density of the liquid. Notice how similar the m = dV relationship is to the mathematical equation for a straight line: y = mx + b, where m is the slope of the line and b is the intercept. Based upon the m = dV equation, b should be zero. In practice, it will not always be zero. Consequently, if one were to construct a graph of mass (m) vs. volume (V), we should get a straight line; the slope of which would equal the density!\n",
    "\n",
    "The above equation can be rearranged to m = dV. It would be very easy to calculate the density of our liquid for any one trial simply by dividing the mass of the liquid by its volume. However, a careful look at our data shows us that we do not know the mass of the liquid alone. Therefore we will describe a graphing procedure one can use to determine the density of the liquid. Notice how similar the m = dV relationship is to the mathematical equation for a straight line: y = mx + b, where m is the slope of the line and b is the intercept. Based upon the m = dV equation, b should be zero. In practice, it will not always be zero. Consequently, if one were to construct a graph of mass (m) vs. volume (V), we should get a straight line; the slope of which would equal the density!\n",
    "\n",
    "Construct two graphs using Microsoft Excel. One graph is for the data collected using the graduated cylinder (Graph 1) while the other is for the data collected using the buret (Graph 2). Recall that the y-axis is for the dependent variable while the x-axis is for the independent variable. Label each graph clearly using total mass for the ordinate (dependent variable; y-axis) and total volume as the abscissa (independent variable; x-axis). Be sure to label each axis with proper quantities and units. Construct the graphs so the data makes maximum use of the graph paper (this means the data points should extend more than one-half the maximum surface of the paper). The mass value does not need to begin at zero grams.\n",
    "\n",
    "For each graph, use the Layout tab under Chart Tools to draw the \"best\" straight line represented by your data. Any data points which do not lie on the line represent error associated with that measurement. Ideally, this \"error\" should be distributed evenly over all points. The line MUST be a straight line.\n",
    "\n",
    "Determine the slope and the intercept of each line. Put the equation for the line on each graph. The slope is the density of your unknown liquid determined by each method. Record these values on the report sheet being sure to include proper units."
   ]
  },
  {
   "cell_type": "markdown",
   "metadata": {},
   "source": [
    "___"
   ]
  },
  {
   "cell_type": "markdown",
   "metadata": {},
   "source": [
    "## Data Sheet"
   ]
  },
  {
   "cell_type": "markdown",
   "metadata": {},
   "source": [
    "#### I. Mass Measurement"
   ]
  },
  {
   "cell_type": "markdown",
   "metadata": {},
   "source": [
    "Item: **answer**\n",
    "\n",
    "Mass: **answer**"
   ]
  },
  {
   "cell_type": "markdown",
   "metadata": {},
   "source": [
    "#### II. Volume Measurement"
   ]
  },
  {
   "cell_type": "markdown",
   "metadata": {},
   "source": [
    "Room temperature: **answer**\n",
    "    \n",
    "Accepted Density: **answer**"
   ]
  },
  {
   "cell_type": "markdown",
   "metadata": {},
   "source": [
    "**A. Graduated Cylinder**\n",
    "\n",
    "Mass of empty flask: **answer**\n",
    "\n",
    "|                                         |Trial 1|Trial 2|Trial 3|Trial 4|Trial 5|\n",
    "|:-:                                      |:-:    |:-:    |:-:    |:-:    |:-:    |\n",
    "|Initial Reading (Usually 1 decimal place)|       |       |       |       |       |\n",
    "|Final Reading (Usually 1 decimal place)  |       |       |       |       |       |\n",
    "|Volume of H2O delivered                  |       |       |       |       |       |\n",
    "|Total volume of H2O in the flask         |       |       |       |       |       |\n",
    "|Mass of flask and H20 (4 decimal places) |       |       |       |       |       |\n",
    "\n",
    "**B. Buret**\n",
    "\n",
    "Mass of empty flask: **answer**\n",
    "\n",
    "|                                         |Trial 1|Trial 2|Trial 3|Trial 4|Trial 5|\n",
    "|:-:                                      |:-:    |:-:    |:-:    |:-:    |:-:    |\n",
    "|Initial Reading (Usually 1 decimal place)|       |       |       |       |       |\n",
    "|Final Reading (Usually 1 decimal place)  |       |       |       |       |       |\n",
    "|Volume of H2O delivered                  |       |       |       |       |       |\n",
    "|Total volume of H2O in the flask         |       |       |       |       |       |\n",
    "|Mass of flask and H20 (4 decimal places) |       |       |       |       |       |"
   ]
  },
  {
   "cell_type": "markdown",
   "metadata": {},
   "source": [
    "___"
   ]
  },
  {
   "cell_type": "markdown",
   "metadata": {},
   "source": [
    "## Report Sheet"
   ]
  },
  {
   "cell_type": "markdown",
   "metadata": {},
   "source": [
    "Density of water from trials with graduated cylinder (Graph 1):\n",
    "> Answer\n",
    "\n",
    "Density of water from trials with buret (Graph 2):\n",
    "> Answer\n",
    "\n",
    "Attach copies of Graph 1 and Graph 2 to the report.\n",
    "> Images\n",
    "\n",
    "\n",
    "#### Questions:\n",
    "1. Using the data from Trial 1 with the graduated cylinder, divide the mass recorded by the volume of H2O. What is the answer? Does this value agree with the density you concluded from Graph 1? Why or why not?\n",
    "> Answer\n",
    "\n",
    "2. From the equation m = dV the intercept value appears to be zero, which makes sense because if there is no volume, the mass of the liquid will be zero. Look at the graph for the buret and determine the y-intercept both visually and mathematically. Use proper units.\n",
    ">Visual intercept: ______________ (If possible. If not possible, state “Not Possible.”)  \n",
    "Mathematical intercept (from the equation of the line): ______________ (proper units?)  \n",
    "Why is this value not zero? What does this value represent in the real, physical world? How accurate is the value concluded from your graph?\n",
    "\n",
    "3. You were instructed to look up the density of water at the laboratory temperature in the CRC Handbook of Chemistry and Physics (available in the laboratory or the library). How did your results from the buret compare to the actual density of water?\n",
    "> Answer\n",
    "\n",
    "4. Which measuring device would you use if you needed to know the volume of a liquid very precisely? Why?\n",
    "> Answer\n",
    "\n",
    "5. Comment on the types of errors involved in your experiment. How might this error evaluated? Include here any comments on why your results disagree with the CRC Handbook of Chemistry and Physics and problems or suggestions about the experimental methods or techniques.\n",
    "> Answer"
   ]
  },
  {
   "cell_type": "markdown",
   "metadata": {},
   "source": [
    "**Formal Laboratory Report Exercise 1** (Include as a separate page, typed on your computer.)  \n",
    "\n",
    "State the purpose of the experiment in your own words."
   ]
  },
  {
   "cell_type": "code",
   "execution_count": null,
   "metadata": {
    "collapsed": true
   },
   "outputs": [],
   "source": []
  }
 ],
 "metadata": {
  "kernelspec": {
   "display_name": "Python 3",
   "language": "python",
   "name": "python3"
  },
  "language_info": {
   "codemirror_mode": {
    "name": "ipython",
    "version": 3
   },
   "file_extension": ".py",
   "mimetype": "text/x-python",
   "name": "python",
   "nbconvert_exporter": "python",
   "pygments_lexer": "ipython3",
   "version": "3.4.3"
  }
 },
 "nbformat": 4,
 "nbformat_minor": 0
}
